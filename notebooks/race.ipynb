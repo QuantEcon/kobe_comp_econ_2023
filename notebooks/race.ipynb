{
 "cells": [
  {
   "cell_type": "markdown",
   "id": "f30caeca",
   "metadata": {},
   "source": [
    "# New JIT and AOT Compilers"
   ]
  },
  {
   "cell_type": "markdown",
   "id": "828eb69e",
   "metadata": {},
   "source": [
    "[John Stachurski](http://johnstachurski.net)"
   ]
  },
  {
   "cell_type": "code",
   "execution_count": null,
   "id": "db88f7ef",
   "metadata": {},
   "outputs": [],
   "source": [
    "!pip install quantecon"
   ]
  },
  {
   "cell_type": "code",
   "execution_count": null,
   "id": "05887097",
   "metadata": {},
   "outputs": [],
   "source": [
    "import numpy as np\n",
    "from numba import jit\n",
    "from quantecon.util import tic, toc\n",
    "import matplotlib.pyplot as plt"
   ]
  },
  {
   "cell_type": "markdown",
   "id": "d66a9c9b",
   "metadata": {},
   "source": [
    "## Problem 1: A Time Series Model"
   ]
  },
  {
   "cell_type": "markdown",
   "id": "543bab65",
   "metadata": {},
   "source": [
    "Consider the time series model\n",
    "\n",
    "$$ x_{t+1} = \\alpha x_t (1 - x_t) $$\n",
    "\n",
    "Let's set $\\alpha = 4$"
   ]
  },
  {
   "cell_type": "code",
   "execution_count": null,
   "id": "761c3e4b",
   "metadata": {},
   "outputs": [],
   "source": [
    "α = 4"
   ]
  },
  {
   "cell_type": "markdown",
   "id": "8f2d74ba",
   "metadata": {},
   "source": [
    "Here's a typical time series:"
   ]
  },
  {
   "cell_type": "code",
   "execution_count": null,
   "id": "3ab7de25",
   "metadata": {},
   "outputs": [],
   "source": [
    "n = 200\n",
    "x =  np.empty(n)\n",
    "x[0] = 0.2\n",
    "for t in range(n-1):\n",
    "    x[t+1] = α * x[t] * (1 - x[t])\n",
    "    \n",
    "plt.plot(x)\n",
    "plt.show()"
   ]
  },
  {
   "cell_type": "markdown",
   "id": "f0616aee",
   "metadata": {},
   "source": [
    "## Python Test"
   ]
  },
  {
   "cell_type": "markdown",
   "id": "26c0f33b",
   "metadata": {},
   "source": [
    "Here's a function that simulates for `n` periods, starting from `x0`, and returns **only the final** value:"
   ]
  },
  {
   "cell_type": "code",
   "execution_count": null,
   "id": "4d46c2c3",
   "metadata": {},
   "outputs": [],
   "source": [
    "def quad(x0, n):\n",
    "    x = x0\n",
    "    for i in range(1, n):\n",
    "        x = α * x * (1 - x)\n",
    "    return x"
   ]
  },
  {
   "cell_type": "markdown",
   "id": "847ca82e",
   "metadata": {},
   "source": [
    "Let's see how fast this runs:"
   ]
  },
  {
   "cell_type": "code",
   "execution_count": null,
   "id": "87995d7e",
   "metadata": {},
   "outputs": [],
   "source": [
    "n = 10_000_000"
   ]
  },
  {
   "cell_type": "code",
   "execution_count": null,
   "id": "7aefc10d",
   "metadata": {},
   "outputs": [],
   "source": [
    "tic()\n",
    "x = quad(0.2, n)\n",
    "toc()"
   ]
  },
  {
   "cell_type": "markdown",
   "id": "dc308c9e",
   "metadata": {},
   "source": [
    "## Fortran Test"
   ]
  },
  {
   "cell_type": "markdown",
   "id": "454e8c4a",
   "metadata": {},
   "source": [
    "Now let's try this in Fortran.\n",
    "\n",
    "Note --- this step is intended to be a demo and will only execute if\n",
    "\n",
    "* you have the file `fastquad.f90` in your pwd\n",
    "* you have a Fortran compiler installed and modify the compilation code below appropriately"
   ]
  },
  {
   "cell_type": "code",
   "execution_count": null,
   "id": "89989a72",
   "metadata": {},
   "outputs": [],
   "source": [
    "%%file fortran_quad.f90\n",
    "\n",
    "PURE FUNCTION QUAD(X0, N)\n",
    " IMPLICIT NONE\n",
    " INTEGER, PARAMETER :: DP=KIND(0.d0)                           \n",
    " REAL(dp), INTENT(IN) :: X0\n",
    " REAL(dp) :: QUAD\n",
    " INTEGER :: I\n",
    " INTEGER, INTENT(IN) :: N\n",
    " QUAD = X0\n",
    " DO I = 1, N - 1                                                \n",
    "  QUAD = 4.0_dp * QUAD * real(1.0_dp - QUAD, dp)\n",
    " END DO\n",
    " RETURN\n",
    "END FUNCTION QUAD\n",
    "\n",
    "PROGRAM MAIN\n",
    " IMPLICIT NONE\n",
    " INTEGER, PARAMETER :: DP=KIND(0.d0)                          \n",
    " REAL(dp) :: START, FINISH, X, QUAD\n",
    " INTEGER :: N\n",
    " N = 10000000\n",
    " X = QUAD(0.2_dp, 10)\n",
    " CALL CPU_TIME(START)\n",
    " X = QUAD(0.2_dp, N)\n",
    " CALL CPU_TIME(FINISH)\n",
    " PRINT *,'last val = ', X\n",
    " PRINT *,'elapsed time = ', FINISH-START\n",
    "END PROGRAM MAIN"
   ]
  },
  {
   "cell_type": "code",
   "execution_count": null,
   "id": "ce1a8eff",
   "metadata": {},
   "outputs": [],
   "source": [
    "!gfortran -O3 fortran_quad.f90"
   ]
  },
  {
   "cell_type": "code",
   "execution_count": null,
   "id": "c235b14a",
   "metadata": {},
   "outputs": [],
   "source": [
    "!./a.out"
   ]
  },
  {
   "cell_type": "code",
   "execution_count": null,
   "id": "3c5e5a33",
   "metadata": {},
   "outputs": [],
   "source": [
    "!rm a.out"
   ]
  },
  {
   "cell_type": "markdown",
   "id": "c6adb086",
   "metadata": {},
   "source": [
    "## Codon\n",
    "\n",
    "Let's try `codon`, an AOT Python compiler\n",
    "\n",
    "First we have to install it."
   ]
  },
  {
   "cell_type": "code",
   "execution_count": null,
   "id": "b6c446e5",
   "metadata": {},
   "outputs": [],
   "source": [
    "!/bin/bash -c \"$(curl -fsSL https://exaloop.io/install.sh)\""
   ]
  },
  {
   "cell_type": "markdown",
   "id": "4f071cce",
   "metadata": {},
   "source": [
    "Now we write Python code to a file."
   ]
  },
  {
   "cell_type": "code",
   "execution_count": null,
   "id": "d08babae",
   "metadata": {},
   "outputs": [],
   "source": [
    "%%file codon_quad.py\n",
    "\n",
    "from time import time\n",
    "\n",
    "n = 10_000_000\n",
    "alpha = 4.0\n",
    "\n",
    "def quad(x0, n):\n",
    "    x = x0\n",
    "    for i in range(1, n):\n",
    "        x = alpha * x * (1 - x)\n",
    "    return x\n",
    "\n",
    "\n",
    "t0 = time()\n",
    "x = quad(0.1, n)\n",
    "t1 = time()\n",
    "print(x)\n",
    "print(t1 - t0)"
   ]
  },
  {
   "cell_type": "markdown",
   "id": "f3f7dabe",
   "metadata": {},
   "source": [
    "Next we compile the Python code to build an executable."
   ]
  },
  {
   "cell_type": "code",
   "execution_count": null,
   "id": "8e15405f",
   "metadata": {},
   "outputs": [],
   "source": [
    "!codon build --release --exe codon_quad.py"
   ]
  },
  {
   "cell_type": "markdown",
   "id": "8fa2ed20",
   "metadata": {},
   "source": [
    "Now let's run it."
   ]
  },
  {
   "cell_type": "code",
   "execution_count": null,
   "id": "557ddd26",
   "metadata": {},
   "outputs": [],
   "source": [
    "!./codon_quad"
   ]
  },
  {
   "cell_type": "markdown",
   "id": "d9561cb2",
   "metadata": {},
   "source": [
    "Tidying up:"
   ]
  },
  {
   "cell_type": "code",
   "execution_count": null,
   "id": "8baa8236",
   "metadata": {},
   "outputs": [],
   "source": [
    "!rm codon_quad"
   ]
  },
  {
   "cell_type": "code",
   "execution_count": null,
   "id": "55d1a803",
   "metadata": {},
   "outputs": [],
   "source": []
  },
  {
   "cell_type": "markdown",
   "id": "b3380cb8",
   "metadata": {},
   "source": [
    "## Python + Numba"
   ]
  },
  {
   "cell_type": "markdown",
   "id": "c430e2c7",
   "metadata": {},
   "source": [
    "Now let's replicate the calculations using Numba's JIT compiler.\n",
    "\n",
    "Here's the Python function we want to speed up"
   ]
  },
  {
   "cell_type": "code",
   "execution_count": null,
   "id": "5a0e1403",
   "metadata": {},
   "outputs": [],
   "source": [
    "@jit\n",
    "def quad(x0, n):\n",
    "    x = x0\n",
    "    for i in range(1, n):\n",
    "        x = α * x * (1 - x)\n",
    "    return x"
   ]
  },
  {
   "cell_type": "markdown",
   "id": "ddd4cce8",
   "metadata": {},
   "source": [
    "This is the same as before except that we've targeted the function for JIT\n",
    "compilation with `@jit`.\n",
    "\n",
    "Let's see how fast it runs."
   ]
  },
  {
   "cell_type": "code",
   "execution_count": null,
   "id": "8f6e7f5e",
   "metadata": {},
   "outputs": [],
   "source": [
    "tic()\n",
    "x = quad(0.2, n)\n",
    "toc()"
   ]
  },
  {
   "cell_type": "code",
   "execution_count": null,
   "id": "967ee6e6",
   "metadata": {},
   "outputs": [],
   "source": [
    "tic()\n",
    "x = quad(0.2, n)\n",
    "toc()"
   ]
  }
 ],
 "metadata": {
  "kernelspec": {
   "display_name": "Python 3 (ipykernel)",
   "language": "python",
   "name": "python3"
  }
 },
 "nbformat": 4,
 "nbformat_minor": 5
}
