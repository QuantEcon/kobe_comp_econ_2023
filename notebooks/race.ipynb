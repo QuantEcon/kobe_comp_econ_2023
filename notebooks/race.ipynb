{
 "cells": [
  {
   "cell_type": "markdown",
   "id": "6c7638d6",
   "metadata": {},
   "source": [
    "# New JIT and AOT Compilers"
   ]
  },
  {
   "cell_type": "markdown",
   "id": "bb304151",
   "metadata": {},
   "source": [
    "[John Stachurski](http://johnstachurski.net)"
   ]
  },
  {
   "cell_type": "code",
   "execution_count": null,
   "id": "762aa5b5",
   "metadata": {},
   "outputs": [],
   "source": [
    "!pip install quantecon"
   ]
  },
  {
   "cell_type": "code",
   "execution_count": null,
   "id": "214a6d13",
   "metadata": {},
   "outputs": [],
   "source": [
    "import numpy as np\n",
    "from numba import vectorize, jit, float64\n",
    "from quantecon.util import tic, toc\n",
    "import matplotlib.pyplot as plt"
   ]
  },
  {
   "cell_type": "markdown",
   "id": "6df1b4d6",
   "metadata": {},
   "source": [
    "## Problem 1: A Time Series Model"
   ]
  },
  {
   "cell_type": "markdown",
   "id": "2010828e",
   "metadata": {},
   "source": [
    "Consider the time series model\n",
    "\n",
    "$$ x_{t+1} = \\alpha x_t (1 - x_t) $$\n",
    "\n",
    "Let's set $\\alpha = 4$"
   ]
  },
  {
   "cell_type": "code",
   "execution_count": null,
   "id": "b42a24d9",
   "metadata": {},
   "outputs": [],
   "source": [
    "α = 4"
   ]
  },
  {
   "cell_type": "markdown",
   "id": "d418453f",
   "metadata": {},
   "source": [
    "Here's a typical time series:"
   ]
  },
  {
   "cell_type": "code",
   "execution_count": null,
   "id": "dd342b25",
   "metadata": {},
   "outputs": [],
   "source": [
    "n = 200\n",
    "x =  np.empty(n)\n",
    "x[0] = 0.2\n",
    "for t in range(n-1):\n",
    "    x[t+1] = α * x[t] * (1 - x[t])\n",
    "    \n",
    "plt.plot(x)\n",
    "plt.show()"
   ]
  },
  {
   "cell_type": "markdown",
   "id": "bda1deb1",
   "metadata": {},
   "source": [
    "## Python Test"
   ]
  },
  {
   "cell_type": "markdown",
   "id": "d82564a7",
   "metadata": {},
   "source": [
    "Here's a function that simulates for `n` periods, starting from `x0`, and returns **only the final** value:"
   ]
  },
  {
   "cell_type": "code",
   "execution_count": null,
   "id": "fb1b09c6",
   "metadata": {},
   "outputs": [],
   "source": [
    "def quad(x0, n):\n",
    "    x = x0\n",
    "    for i in range(1, n):\n",
    "        x = α * x * (1 - x)\n",
    "    return x"
   ]
  },
  {
   "cell_type": "markdown",
   "id": "c2d01686",
   "metadata": {},
   "source": [
    "Let's see how fast this runs:"
   ]
  },
  {
   "cell_type": "code",
   "execution_count": null,
   "id": "30afbe4e",
   "metadata": {},
   "outputs": [],
   "source": [
    "n = 10_000_000"
   ]
  },
  {
   "cell_type": "code",
   "execution_count": null,
   "id": "83d789f7",
   "metadata": {},
   "outputs": [],
   "source": [
    "tic()\n",
    "x = quad(0.2, n)\n",
    "toc()"
   ]
  },
  {
   "cell_type": "markdown",
   "id": "18a0849b",
   "metadata": {},
   "source": [
    "## Fortran Test"
   ]
  },
  {
   "cell_type": "markdown",
   "id": "e8494828",
   "metadata": {},
   "source": [
    "Now let's try this in Fortran.\n",
    "\n",
    "Note --- this step is intended to be a demo and will only execute if\n",
    "\n",
    "* you have the file `fastquad.f90` in your pwd\n",
    "* you have a Fortran compiler installed and modify the compilation code below appropriately"
   ]
  },
  {
   "cell_type": "code",
   "execution_count": null,
   "id": "e5f364cf",
   "metadata": {},
   "outputs": [],
   "source": [
    "%%file fortran_quad.f90\n",
    "\n",
    "PURE FUNCTION QUAD(X0, N)\n",
    " IMPLICIT NONE\n",
    " INTEGER, PARAMETER :: DP=KIND(0.d0)                           \n",
    " REAL(dp), INTENT(IN) :: X0\n",
    " REAL(dp) :: QUAD\n",
    " INTEGER :: I\n",
    " INTEGER, INTENT(IN) :: N\n",
    " QUAD = X0\n",
    " DO I = 1, N - 1                                                \n",
    "  QUAD = 4.0_dp * QUAD * real(1.0_dp - QUAD, dp)\n",
    " END DO\n",
    " RETURN\n",
    "END FUNCTION QUAD\n",
    "\n",
    "PROGRAM MAIN\n",
    " IMPLICIT NONE\n",
    " INTEGER, PARAMETER :: DP=KIND(0.d0)                          \n",
    " REAL(dp) :: START, FINISH, X, QUAD\n",
    " INTEGER :: N\n",
    " N = 10000000\n",
    " X = QUAD(0.2_dp, 10)\n",
    " CALL CPU_TIME(START)\n",
    " X = QUAD(0.2_dp, N)\n",
    " CALL CPU_TIME(FINISH)\n",
    " PRINT *,'last val = ', X\n",
    " PRINT *,'elapsed time = ', FINISH-START\n",
    "END PROGRAM MAIN"
   ]
  },
  {
   "cell_type": "code",
   "execution_count": null,
   "id": "81503a56",
   "metadata": {},
   "outputs": [],
   "source": [
    "!gfortran -O3 fortran_quad.f90"
   ]
  },
  {
   "cell_type": "code",
   "execution_count": null,
   "id": "ce48edf4",
   "metadata": {},
   "outputs": [],
   "source": [
    "!./a.out"
   ]
  },
  {
   "cell_type": "code",
   "execution_count": null,
   "id": "1c301af1",
   "metadata": {},
   "outputs": [],
   "source": [
    "!rm a.out"
   ]
  },
  {
   "cell_type": "markdown",
   "id": "523d92dc",
   "metadata": {},
   "source": [
    "## Python + Numba"
   ]
  },
  {
   "cell_type": "markdown",
   "id": "72094c78",
   "metadata": {},
   "source": [
    "Now let's do the same thing in Python using Numba's JIT compilation:"
   ]
  },
  {
   "cell_type": "code",
   "execution_count": null,
   "id": "23d790ca",
   "metadata": {},
   "outputs": [],
   "source": [
    "quad_jitted = jit(quad)"
   ]
  },
  {
   "cell_type": "code",
   "execution_count": null,
   "id": "f64927c7",
   "metadata": {},
   "outputs": [],
   "source": [
    "tic()\n",
    "x = quad_jitted(0.2, n)\n",
    "toc()"
   ]
  },
  {
   "cell_type": "code",
   "execution_count": null,
   "id": "b18cec69",
   "metadata": {},
   "outputs": [],
   "source": [
    "tic()\n",
    "x = quad_jitted(0.2, n)\n",
    "toc()"
   ]
  },
  {
   "cell_type": "markdown",
   "id": "eac1d1ee",
   "metadata": {},
   "source": [
    "## Codon"
   ]
  },
  {
   "cell_type": "code",
   "execution_count": null,
   "id": "2a89d5b3",
   "metadata": {},
   "outputs": [],
   "source": [
    "!/bin/bash -c \"$(curl -fsSL https://exaloop.io/install.sh)\""
   ]
  },
  {
   "cell_type": "code",
   "execution_count": null,
   "id": "87c04ba5",
   "metadata": {},
   "outputs": [],
   "source": [
    "%%file codon_quad.py\n",
    "\n",
    "from time import time\n",
    "\n",
    "n = 10_000_000\n",
    "alpha = 4.0\n",
    "\n",
    "def quad(x0, n):\n",
    "    x = x0\n",
    "    for i in range(1, n):\n",
    "        x = alpha * x * (1 - x)\n",
    "    return x\n",
    "\n",
    "\n",
    "t0 = time()\n",
    "x = quad(0.1, n)\n",
    "t1 = time()\n",
    "print(x)\n",
    "print(t1 - t0)"
   ]
  },
  {
   "cell_type": "code",
   "execution_count": null,
   "id": "b28865c3",
   "metadata": {},
   "outputs": [],
   "source": [
    "!codon build --release --exe codon_quad.py"
   ]
  },
  {
   "cell_type": "code",
   "execution_count": null,
   "id": "b5605036",
   "metadata": {},
   "outputs": [],
   "source": [
    "!./codon_quad"
   ]
  },
  {
   "cell_type": "code",
   "execution_count": null,
   "id": "378469a1",
   "metadata": {},
   "outputs": [],
   "source": [
    "!rm codon_quad"
   ]
  },
  {
   "cell_type": "code",
   "execution_count": null,
   "id": "3094a711",
   "metadata": {},
   "outputs": [],
   "source": []
  }
 ],
 "metadata": {
  "kernelspec": {
   "display_name": "Python 3 (ipykernel)",
   "language": "python",
   "name": "python3"
  }
 },
 "nbformat": 4,
 "nbformat_minor": 5
}
