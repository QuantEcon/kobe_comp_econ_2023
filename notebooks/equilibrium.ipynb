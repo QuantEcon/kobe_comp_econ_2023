{
 "cells": [
  {
   "cell_type": "markdown",
   "id": "1ede740b",
   "metadata": {},
   "source": [
    "# Equilibrium"
   ]
  },
  {
   "cell_type": "markdown",
   "id": "060e0128",
   "metadata": {},
   "source": [
    "#### Written for the CBC QuantEcon Workshop (September 2022)\n",
    "#### Author: [John Stachurski](http://johnstachurski.net/)"
   ]
  },
  {
   "cell_type": "markdown",
   "id": "0f056a1d",
   "metadata": {},
   "source": [
    "In this notebook we solve a very simple market equilibrium problem.\n",
    "\n",
    "Supply and demand are nonlinear and we use Newton's root-finding algorithm to solve for equilibrium prices.\n",
    "\n",
    "We use the following imports:"
   ]
  },
  {
   "cell_type": "code",
   "execution_count": null,
   "id": "a12844d7",
   "metadata": {},
   "outputs": [],
   "source": [
    "import numpy as np\n",
    "import matplotlib.pyplot as plt"
   ]
  },
  {
   "cell_type": "markdown",
   "id": "16bc3431",
   "metadata": {},
   "source": [
    "## Prelude: A Note on Root-Finding"
   ]
  },
  {
   "cell_type": "markdown",
   "id": "caa14644",
   "metadata": {},
   "source": [
    "If $f$ maps an interval $(a, b)$ into $\\mathbb R$, then a **root** of the function $f$ is an $x^* \\in (a,b)$ with $f(x^*)=0$.\n",
    "\n",
    "A common method for root finding is Newton's algorithm.\n",
    "\n",
    "We start with a guess $x_0 \\in (a, b)$.\n",
    "\n",
    "Then we replace $f$ with the tangent function $f_a(x) = f(x_0) + f'(x_0)(x - x_0)$ and solve for the root of $f_a$ (which can be done exactly).\n",
    "\n",
    "In other words, we solve the simple equation $f_a(x)=0$ to get \n",
    "\n",
    "$$ x_1 = x_0 - \\frac{f(x_0)}{f'(x_0)} $$\n",
    "\n",
    "Then we repeat to get $x_2, x_3, \\ldots$"
   ]
  },
  {
   "cell_type": "markdown",
   "id": "6fd2d0a3",
   "metadata": {},
   "source": [
    "The algorithm is implemented in `scipy.optimize`"
   ]
  },
  {
   "cell_type": "code",
   "execution_count": null,
   "id": "b9b09c1f",
   "metadata": {},
   "outputs": [],
   "source": [
    "from scipy.optimize import newton"
   ]
  },
  {
   "cell_type": "markdown",
   "id": "f5e07ada",
   "metadata": {},
   "source": [
    "Let's apply this to find the positive root of $f(x) = x^2 - 1$.\n",
    "\n",
    "We will use a `lambda` expression to create the function $f$."
   ]
  },
  {
   "cell_type": "code",
   "execution_count": null,
   "id": "383dc97c",
   "metadata": {},
   "outputs": [],
   "source": [
    "newton(lambda x: x**2 - 1, 0.5)"
   ]
  },
  {
   "cell_type": "markdown",
   "id": "074a9721",
   "metadata": {},
   "source": [
    "Here we didn't supply the gradient of $f(x)=x-1$ so it was approximated numerically.  We can supply it as follows:"
   ]
  },
  {
   "cell_type": "code",
   "execution_count": null,
   "id": "11947c12",
   "metadata": {},
   "outputs": [],
   "source": [
    "newton(lambda x: x**2 - 1, 0.5, fprime=lambda x: 2*x)"
   ]
  },
  {
   "cell_type": "markdown",
   "id": "1676aec4",
   "metadata": {},
   "source": [
    "## The Market"
   ]
  },
  {
   "cell_type": "markdown",
   "id": "1ee337a4",
   "metadata": {},
   "source": [
    "Now let's consider a market for coffee beans.  The price per kilo is $p$.  Total supply at price $p$ is\n",
    "\n",
    "$$ q_s (p) = b \\sqrt{p} $$\n",
    "\n",
    "and total demand is \n",
    "\n",
    "$$ q_d (p) = a \\exp(-p) + c, $$\n",
    "\n",
    "where $a, b$ and $c$ are positive parameters."
   ]
  },
  {
   "cell_type": "markdown",
   "id": "859ea457",
   "metadata": {},
   "source": [
    "Now we write routines to compute supply and demand as functions of price and parameters.\n",
    "\n",
    "We take $a=1$, $b=0.5$ and $c=1$ as \"default\" parameter values."
   ]
  },
  {
   "cell_type": "code",
   "execution_count": null,
   "id": "60921a3f",
   "metadata": {},
   "outputs": [],
   "source": [
    "def supply(p, b=0.5):\n",
    "    return b * np.sqrt(p)\n",
    "\n",
    "def demand(p, a=1, c=1):\n",
    "    return a * np.exp(-p) + c"
   ]
  },
  {
   "cell_type": "markdown",
   "id": "5867fe78",
   "metadata": {},
   "source": [
    "Now we can call the functions as follows:"
   ]
  },
  {
   "cell_type": "code",
   "execution_count": null,
   "id": "7cadddca",
   "metadata": {},
   "outputs": [],
   "source": [
    "demand(2.0)  # with a and c at defaults"
   ]
  },
  {
   "cell_type": "code",
   "execution_count": null,
   "id": "24594090",
   "metadata": {},
   "outputs": [],
   "source": [
    "demand(2.0, a=0.4)  # a is specified and c remains at its defaults"
   ]
  },
  {
   "cell_type": "markdown",
   "id": "3d5a0769",
   "metadata": {},
   "source": [
    "etc."
   ]
  },
  {
   "cell_type": "markdown",
   "id": "0ed31159",
   "metadata": {},
   "source": [
    "Note that these functions are automatically NumPy \"universal functions\":"
   ]
  },
  {
   "cell_type": "code",
   "execution_count": null,
   "id": "db77b833",
   "metadata": {},
   "outputs": [],
   "source": [
    "p_vals = np.array((0.5, 1.0, 1.5))\n",
    "supply(p_vals)"
   ]
  },
  {
   "cell_type": "code",
   "execution_count": null,
   "id": "5da2fed3",
   "metadata": {},
   "outputs": [],
   "source": [
    "demand(p_vals)"
   ]
  },
  {
   "cell_type": "markdown",
   "id": "b3545c75",
   "metadata": {},
   "source": [
    "### Exercise 1\n",
    "\n",
    "Plot both supply and demand as functions of $p$ on the interval $[0, 10]$ at the default parameters.\n",
    "\n",
    "* Put price on the horizonal axis.  \n",
    "* Use a legend to label the two functions and be sure to label the axes.  \n",
    "* Make a rough estimate of the equilibrium price, where demand equals supply."
   ]
  },
  {
   "cell_type": "code",
   "execution_count": null,
   "id": "76e66a48",
   "metadata": {},
   "outputs": [],
   "source": [
    "# Put your code here"
   ]
  },
  {
   "cell_type": "code",
   "execution_count": null,
   "id": "c85d50ff",
   "metadata": {},
   "outputs": [],
   "source": [
    "for _ in range(10):\n",
    "    print('solution below')"
   ]
  },
  {
   "cell_type": "code",
   "execution_count": null,
   "id": "51a64b6e",
   "metadata": {},
   "outputs": [],
   "source": [
    "fig, ax = plt.subplots()\n",
    "p_grid = np.linspace(0, 10, 200)\n",
    "ax.plot(p_grid, supply(p_grid), label='supply')\n",
    "ax.plot(p_grid, demand(p_grid), label='demand')\n",
    "ax.set_xlabel(\"price\")\n",
    "ax.set_ylabel(\"quantity\")\n",
    "ax.legend(frameon=False, loc='upper center')\n",
    "plt.show()"
   ]
  },
  {
   "cell_type": "markdown",
   "id": "9d3cc76e",
   "metadata": {},
   "source": [
    "The equilibrium price looks to be about 4.1."
   ]
  },
  {
   "cell_type": "markdown",
   "id": "ee2c068c",
   "metadata": {},
   "source": [
    "### Exercise 2\n",
    "\n",
    "Write a function that takes arguments $a, b, c, p$, with default values $a=1$, $b=0.5$ and $c=1$, and returns *excess demand*, which is defined as\n",
    "\n",
    "$$ e(p) = q_d(p) - q_s(p) $$"
   ]
  },
  {
   "cell_type": "code",
   "execution_count": null,
   "id": "fa68fe2e",
   "metadata": {},
   "outputs": [],
   "source": [
    "# Put your code here"
   ]
  },
  {
   "cell_type": "code",
   "execution_count": null,
   "id": "8ed6967b",
   "metadata": {},
   "outputs": [],
   "source": [
    "for _ in range(10):\n",
    "    print('solution below')"
   ]
  },
  {
   "cell_type": "code",
   "execution_count": null,
   "id": "47eaccde",
   "metadata": {},
   "outputs": [],
   "source": [
    "def excess_demand(p, a=1, b=0.5, c=1):\n",
    "    return demand(p, a, c) - supply(p, b)"
   ]
  },
  {
   "cell_type": "markdown",
   "id": "a84b738e",
   "metadata": {},
   "source": [
    "Now we test it:"
   ]
  },
  {
   "cell_type": "code",
   "execution_count": null,
   "id": "7a4b0edb",
   "metadata": {},
   "outputs": [],
   "source": [
    "excess_demand(1.0)"
   ]
  },
  {
   "cell_type": "markdown",
   "id": "21fc51f2",
   "metadata": {},
   "source": [
    "### Organizing our Code\n",
    "\n",
    "If we have many functions working with the same parameters, it's hard to know where to put the default values.\n",
    "\n",
    "As such, we normally collect them in a data structure, such as a class or a tuple.\n",
    "\n",
    "Personally, I normally used `namedtuple` instances, which are lighter than classes but easier to work with than tuples.\n",
    "\n",
    "Here's an example:"
   ]
  },
  {
   "cell_type": "code",
   "execution_count": null,
   "id": "ac8dcd8a",
   "metadata": {},
   "outputs": [],
   "source": [
    "from collections import namedtuple\n",
    "\n",
    "Params = namedtuple('Params', ('a', 'b', 'c'))\n",
    "\n",
    "def create_market_params(a=1.0, b=0.5, c=1.0):\n",
    "    return Params(a=a, b=b, c=c)\n",
    "\n",
    "\n",
    "def supply(p, params):\n",
    "    a, b, c = params\n",
    "    return b * np.sqrt(p)\n",
    "\n",
    "def demand(p, params):\n",
    "    a, b, c = params\n",
    "    return a * np.exp(-p) + c\n",
    "\n",
    "def excess_demand(p, params):\n",
    "    a, b, c = params\n",
    "    return demand(p, params) - supply(p, params)"
   ]
  },
  {
   "cell_type": "markdown",
   "id": "10555175",
   "metadata": {},
   "source": [
    "### Exercise 3\n",
    "\n",
    "Using these functions, plot excess demand over the interval from $0.2$ up to $10$.  Also plot a horizontal line at zero.  The equilibrium price is where excess demand crosses zero."
   ]
  },
  {
   "cell_type": "code",
   "execution_count": null,
   "id": "e403f095",
   "metadata": {},
   "outputs": [],
   "source": [
    "# Put your code here"
   ]
  },
  {
   "cell_type": "code",
   "execution_count": null,
   "id": "a000c74c",
   "metadata": {},
   "outputs": [],
   "source": [
    "for _ in range(10):\n",
    "    print('solution below')"
   ]
  },
  {
   "cell_type": "code",
   "execution_count": null,
   "id": "cbdaaee1",
   "metadata": {},
   "outputs": [],
   "source": [
    "params = create_market_params()\n",
    "\n",
    "fig, ax = plt.subplots()\n",
    "p_grid = np.linspace(0, 10, 200)\n",
    "ax.plot(p_grid, excess_demand(p_grid, params), label='excess demand')\n",
    "ax.plot(p_grid, np.zeros_like(p_grid), 'k--')\n",
    "ax.set_xlabel(\"price\")\n",
    "ax.set_ylabel(\"quantity\")\n",
    "ax.legend()\n",
    "plt.show()"
   ]
  },
  {
   "cell_type": "markdown",
   "id": "1ea69e30",
   "metadata": {},
   "source": [
    "### Exercise 4"
   ]
  },
  {
   "cell_type": "markdown",
   "id": "8b359f88",
   "metadata": {},
   "source": [
    "Write a function that takes an instance of `Params` (i.e, a parameter vector) and returns a market clearing price via Newton's method."
   ]
  },
  {
   "cell_type": "code",
   "execution_count": null,
   "id": "11e5802a",
   "metadata": {},
   "outputs": [],
   "source": [
    "# Put your code here"
   ]
  },
  {
   "cell_type": "code",
   "execution_count": null,
   "id": "6217c8c6",
   "metadata": {},
   "outputs": [],
   "source": [
    "for _ in range(10):\n",
    "    print('solution below')"
   ]
  },
  {
   "cell_type": "code",
   "execution_count": null,
   "id": "dff0c205",
   "metadata": {},
   "outputs": [],
   "source": [
    "def compute_equilibrium(params, price_init=2.0):\n",
    "    p_star = newton(lambda p: excess_demand(p, params), price_init)\n",
    "    return p_star"
   ]
  },
  {
   "cell_type": "code",
   "execution_count": null,
   "id": "578f53b0",
   "metadata": {},
   "outputs": [],
   "source": [
    "params = create_market_params()\n",
    "compute_equilibrium(params)"
   ]
  },
  {
   "cell_type": "markdown",
   "id": "4043a135",
   "metadata": {},
   "source": [
    "This looks about right given the figures above."
   ]
  },
  {
   "cell_type": "markdown",
   "id": "f6700bf2",
   "metadata": {},
   "source": [
    "### Exercise 5\n",
    "\n",
    "For $b$ in a grid of 200 values between 0.5 and 1.0, plot the equilibrium price for each $b$.\n",
    "\n",
    "Does the curve that you plotted slope up or down?  Try to provide an explanation for what you see in terms of market equilibrium."
   ]
  },
  {
   "cell_type": "code",
   "execution_count": null,
   "id": "ea1584bb",
   "metadata": {},
   "outputs": [],
   "source": [
    "# Put your code here"
   ]
  },
  {
   "cell_type": "code",
   "execution_count": null,
   "id": "81790771",
   "metadata": {},
   "outputs": [],
   "source": [
    "for _ in range(10):\n",
    "    print('solution below')"
   ]
  },
  {
   "cell_type": "code",
   "execution_count": null,
   "id": "aa2d5ec1",
   "metadata": {},
   "outputs": [],
   "source": [
    "b_grid = np.linspace(0.5, 1.0, 200)\n",
    "prices = np.empty_like(b_grid)\n",
    "for i, b in enumerate(b_grid):\n",
    "    params = create_market_params(b=b)\n",
    "    prices[i] = compute_equilibrium(params)"
   ]
  },
  {
   "cell_type": "code",
   "execution_count": null,
   "id": "010d4358",
   "metadata": {},
   "outputs": [],
   "source": [
    "fig, ax = plt.subplots()\n",
    "ax.plot(b_grid, prices, label=\"equilibrium prices\")\n",
    "ax.set_xlabel(\"$b$\")\n",
    "ax.set_ylabel(\"price\")\n",
    "ax.legend()\n",
    "plt.show()"
   ]
  },
  {
   "cell_type": "markdown",
   "id": "4dd0cb5f",
   "metadata": {},
   "source": [
    "The curve slopes down because an increase in $b$ pushes up supply at any given price.  (In other words, the supply curve shifts up.)  \n",
    "\n",
    "With greater supply, the price tends to fall."
   ]
  },
  {
   "cell_type": "code",
   "execution_count": null,
   "id": "fd10c8c0",
   "metadata": {},
   "outputs": [],
   "source": []
  }
 ],
 "metadata": {
  "kernelspec": {
   "display_name": "Python 3 (ipykernel)",
   "language": "python",
   "name": "python3"
  }
 },
 "nbformat": 4,
 "nbformat_minor": 5
}
