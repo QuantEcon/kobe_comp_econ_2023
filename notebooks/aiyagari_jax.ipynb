{
 "cells": [
  {
   "cell_type": "markdown",
   "id": "8cc5ab44",
   "metadata": {
    "colab_type": "text",
    "id": "view-in-github"
   },
   "source": [
    "<a href=\"https://colab.research.google.com/gist/shlff/5bde3e216c5f65dac9763eb17c549044/aiyagari_jax.ipynb\" target=\"_parent\"><img src=\"https://colab.research.google.com/assets/colab-badge.svg\" alt=\"Open In Colab\"/></a>"
   ]
  },
  {
   "cell_type": "markdown",
   "id": "5dd0be92",
   "metadata": {
    "id": "b205a26b"
   },
   "source": [
    "# The Aiyagari Model"
   ]
  },
  {
   "cell_type": "code",
   "execution_count": null,
   "id": "9ec2606b",
   "metadata": {
    "id": "46444d67",
    "incorrectly_encoded_metadata": "hide-output=false"
   },
   "outputs": [],
   "source": [
    "#!pip install --upgrade quantecon  #  Uncomment if necessary"
   ]
  },
  {
   "cell_type": "markdown",
   "id": "15d72339",
   "metadata": {
    "id": "67cab042"
   },
   "source": [
    "We use the following imports"
   ]
  },
  {
   "cell_type": "code",
   "execution_count": null,
   "id": "8f17151e",
   "metadata": {
    "colab": {
     "base_uri": "https://localhost:8080/"
    },
    "id": "FZrKQ6DLVXjI",
    "outputId": "a012dba5-9ec6-4854-955a-f0ccf8522b5d"
   },
   "outputs": [],
   "source": [
    "!nvidia-smi"
   ]
  },
  {
   "cell_type": "code",
   "execution_count": null,
   "id": "79aa4eeb",
   "metadata": {
    "id": "5f04cbeb",
    "incorrectly_encoded_metadata": "hide-output=false"
   },
   "outputs": [],
   "source": [
    "import matplotlib.pyplot as plt\n",
    "import numpy as np\n",
    "# import quantecon as qe\n",
    "import jax\n",
    "import jax.numpy as jnp"
   ]
  },
  {
   "cell_type": "markdown",
   "id": "04e8abcb",
   "metadata": {
    "id": "0da8a153"
   },
   "source": [
    "We use 64 bit floats with JAX in order to match NumPy/Numba code."
   ]
  },
  {
   "cell_type": "code",
   "execution_count": null,
   "id": "b56231f0",
   "metadata": {
    "id": "32f6b2f7"
   },
   "outputs": [],
   "source": [
    "jax.config.update(\"jax_enable_x64\", True)"
   ]
  },
  {
   "cell_type": "markdown",
   "id": "37ce0cd6",
   "metadata": {
    "id": "70499004"
   },
   "source": [
    "We will use the following function to compute stationary distributions of stochastic matrices.  (For a reference to the algorithm, see p. 88 of [Economic Dynamics](https://johnstachurski.net/edtc).)"
   ]
  },
  {
   "cell_type": "code",
   "execution_count": null,
   "id": "45f352e8",
   "metadata": {
    "id": "a33b72dc"
   },
   "outputs": [],
   "source": [
    "@jax.jit\n",
    "def compute_stationary(P):\n",
    "    \"Compute the stationary distribution of P by matrix inversion.\"\n",
    "    n = len(P)\n",
    "    I = jnp.identity(n)\n",
    "    O = jnp.ones((n, n))\n",
    "    A = I - jnp.transpose(P) + O\n",
    "    return jnp.linalg.solve(A, jnp.ones(n))"
   ]
  },
  {
   "cell_type": "markdown",
   "id": "7b86fd91",
   "metadata": {
    "id": "7cb8283d"
   },
   "source": [
    "## Overview\n",
    "\n",
    "In this lecture, we describe the structure of a class of models that build on work by Truman Bewley [[Bew77](https://python.quantecon.org/zreferences.html#id173)].\n",
    "\n",
    "We begin by discussing an example of a Bewley model due to Rao Aiyagari [[Aiy94](https://python.quantecon.org/zreferences.html#id137)].\n",
    "\n",
    "The model features\n",
    "\n",
    "- Heterogeneous agents  \n",
    "- A single exogenous vehicle for borrowing and lending  \n",
    "- Limits on amounts individual agents may borrow  \n",
    "\n",
    "\n",
    "The Aiyagari model has been used to investigate many topics, including\n",
    "\n",
    "- precautionary savings and the effect of liquidity constraints [[Aiy94](https://python.quantecon.org/zreferences.html#id137)]  \n",
    "- risk sharing and asset pricing [[HL96](https://python.quantecon.org/zreferences.html#id129)]  \n",
    "- the shape of the wealth distribution [[BBZ15](https://python.quantecon.org/zreferences.html#id130)]"
   ]
  },
  {
   "cell_type": "markdown",
   "id": "d6fd7069",
   "metadata": {
    "id": "ce236bad"
   },
   "source": [
    "### References\n",
    "\n",
    "The primary reference for this lecture is [[Aiy94](https://python.quantecon.org/zreferences.html#id137)].\n",
    "\n",
    "A textbook treatment is available in chapter 18 of [[LS18](https://python.quantecon.org/zreferences.html#id182)].\n",
    "\n",
    "A continuous time version of the model by SeHyoun Ahn and Benjamin Moll can be found [here](http://nbviewer.jupyter.org/github/QuantEcon/QuantEcon.notebooks/blob/master/aiyagari_continuous_time.ipynb)."
   ]
  },
  {
   "cell_type": "markdown",
   "id": "d5b3c1fb",
   "metadata": {
    "id": "056a1294"
   },
   "source": [
    "## Firms\n",
    "\n",
    "Firms produce output by hiring capital and labor.\n",
    "\n",
    "Firms act competitively and face constant returns to scale.\n",
    "\n",
    "Since returns to scale are constant the number of firms does not matter.\n",
    "\n",
    "Hence we can consider a single (but nonetheless competitive) representative firm.\n",
    "\n",
    "The firm’s output is\n",
    "\n",
    "$$\n",
    "Y_t = A K_t^{\\alpha} N^{1 - \\alpha}\n",
    "$$\n",
    "\n",
    "where\n",
    "\n",
    "- $ A $ and $ \\alpha $ are parameters with $ A > 0 $ and $ \\alpha \\in (0, 1) $  \n",
    "- $ K_t $ is aggregate capital  \n",
    "- $ N $ is total labor supply (which is constant in this simple version of the model)  \n",
    "\n",
    "\n",
    "The firm’s problem is\n",
    "\n",
    "$$\n",
    "\\max_{K, N} \\left\\{ A K_t^{\\alpha} N^{1 - \\alpha} - (r + \\delta) K - w N \\right\\}\n",
    "$$\n",
    "\n",
    "The parameter $ \\delta $ is the depreciation rate.\n",
    "\n",
    "From the first-order condition with respect to capital, the firm’s inverse demand for capital is\n",
    "\n",
    "\n",
    "<a id='equation-aiy-rgk'></a>\n",
    "$$\n",
    "r = A \\alpha  \\left( \\frac{N}{K} \\right)^{1 - \\alpha} - \\delta \\tag{70.1}\n",
    "$$\n",
    "\n",
    "Using this expression and the firm’s first-order condition for labor, we can pin down\n",
    "the equilibrium wage rate as a function of $ r $ as\n",
    "\n",
    "\n",
    "<a id='equation-aiy-wgr'></a>\n",
    "$$\n",
    "w(r) = A  (1 - \\alpha)  (A \\alpha / (r + \\delta))^{\\alpha / (1 - \\alpha)} \\tag{70.2}\n",
    "$$"
   ]
  },
  {
   "cell_type": "markdown",
   "id": "01b86ba6",
   "metadata": {
    "id": "f631594c"
   },
   "source": [
    "These parameters and equations are stored in the following class."
   ]
  },
  {
   "cell_type": "code",
   "execution_count": null,
   "id": "abd33066",
   "metadata": {
    "id": "ec209518"
   },
   "outputs": [],
   "source": [
    "class Firm:\n",
    "    \n",
    "    def __init__(self, \n",
    "                 A=1.0,\n",
    "                 N=1.0,\n",
    "                 α=0.33,\n",
    "                 β=0.96,\n",
    "                 δ=0.05):\n",
    "        \n",
    "        self.A, self.N, self.α, self.β, self.δ = A, N, α, β, δ\n",
    "\n",
    "    def rd(self, K):\n",
    "        \"\"\"\n",
    "        Inverse demand curve for capital.  The interest rate associated with a\n",
    "        given demand for capital K.\n",
    "        \"\"\"\n",
    "        A, N, α, β, δ = self.A, self.N, self.α, self.β, self.δ\n",
    "        return A * α * (N / K)**(1 - α) - δ\n",
    "    \n",
    "    \n",
    "    def r_to_w(self, r):\n",
    "        \"\"\"\n",
    "        Equilibrium wages associated with a given interest rate r.\n",
    "        \"\"\"\n",
    "        A, N, α, β, δ = self.A, self.N, self.α, self.β, self.δ\n",
    "        return A * (1 - α) * (A * α / (r + δ))**(α / (1 - α))"
   ]
  },
  {
   "cell_type": "markdown",
   "id": "619645e0",
   "metadata": {
    "id": "de716fe2"
   },
   "source": [
    "## Households\n",
    "\n",
    "Infinitely lived households / consumers face idiosyncratic income shocks.\n",
    "\n",
    "A unit interval of  *ex-ante* identical households face a common borrowing constraint.\n",
    "\n",
    "The savings problem faced by a typical  household is\n",
    "\n",
    "$$\n",
    "\\max \\mathbb E \\sum_{t=0}^{\\infty} \\beta^t u(c_t)\n",
    "$$\n",
    "\n",
    "subject to\n",
    "\n",
    "$$\n",
    "a_{t+1} + c_t \\leq w z_t + (1 + r) a_t\n",
    "\\quad\n",
    "c_t \\geq 0,\n",
    "\\quad \\text{and} \\quad\n",
    "a_t \\geq -B\n",
    "$$\n",
    "\n",
    "where\n",
    "\n",
    "- $ c_t $ is current consumption  \n",
    "- $ a_t $ is assets  \n",
    "- $ z_t $ is an exogenous component of labor income capturing stochastic unemployment risk, etc.  \n",
    "- $ w $ is a wage rate  \n",
    "- $ r $ is a net interest rate  \n",
    "- $ B $ is the maximum amount that the agent is allowed to borrow  \n",
    "\n",
    "\n",
    "The exogenous process $ \\{z_t\\} $ follows a finite state Markov chain with given stochastic matrix $ P $.\n",
    "\n",
    "\n",
    "In this simple version of the model, households supply labor  inelastically because they do not value leisure.\n",
    "\n",
    "Below we provide code to solve the household problem,taking $r$ and $w$ as fixed."
   ]
  },
  {
   "cell_type": "markdown",
   "id": "26ea1ebd",
   "metadata": {
    "id": "feb12589"
   },
   "source": [
    "### Primitives and Operators"
   ]
  },
  {
   "cell_type": "markdown",
   "id": "6a23ca1d",
   "metadata": {
    "id": "0228f274"
   },
   "source": [
    "This class stores the parameters that define a household asset \n",
    "accumulation problem and the grids used to solve it."
   ]
  },
  {
   "cell_type": "code",
   "execution_count": null,
   "id": "d8c1d403",
   "metadata": {
    "id": "aafea72f",
    "incorrectly_encoded_metadata": "hide-output=false"
   },
   "outputs": [],
   "source": [
    "class Household:\n",
    "\n",
    "    def __init__(self,\n",
    "                r=0.01,                      # Interest rate\n",
    "                w=1.0,                       # Wages\n",
    "                β=0.96,                      # Discount factor\n",
    "                Π=[[0.9, 0.1], [0.1, 0.9]],  # Markov chain\n",
    "                z_grid=[0.1, 1.0],           # Exogenous states\n",
    "                a_min=1e-10, a_max=20,       # Asset grid\n",
    "                a_size=200):\n",
    "\n",
    "        # Store values, set up grids over a and z\n",
    "        self.r, self.w, self.β = r, w, β\n",
    "        self.a_size = a_size\n",
    "        self.a_grid = jnp.linspace(a_min, a_max, a_size)\n",
    "        z_grid, Π = map(np.array, (z_grid, Π))\n",
    "        self.Π = jax.device_put(Π)\n",
    "        self.z_grid = jax.device_put(z_grid)\n",
    "        self.z_size = len(z_grid)\n",
    "        \n",
    "    def constants(self):\n",
    "        return self.r, self.w, self.β\n",
    "    \n",
    "    def sizes(self):\n",
    "        return self.a_size, self.z_size\n",
    "    \n",
    "    def arrays(self):\n",
    "        return self.a_grid, self.z_grid, self.Π"
   ]
  },
  {
   "cell_type": "markdown",
   "id": "89736727",
   "metadata": {
    "id": "a7542c38"
   },
   "source": [
    "This is the right-hand side of the Bellman equation for the household:"
   ]
  },
  {
   "cell_type": "code",
   "execution_count": null,
   "id": "61585b58",
   "metadata": {
    "id": "e82d1d72"
   },
   "outputs": [],
   "source": [
    "def B(v, constants, sizes, arrays):\n",
    "    \"\"\"\n",
    "    A vectorized version of the right-hand side of the Bellman equation \n",
    "    (before maximization), which is a 3D array representing\n",
    "\n",
    "        B(a, z, a') = u(wz + (1+r)a - a') + β Σ_z' v(a', z') Π(z, z')\n",
    "\n",
    "    for all (a, z, a').\n",
    "    \"\"\"\n",
    "\n",
    "    # Unpack \n",
    "    r, w, β = constants\n",
    "    a_size, z_size = sizes\n",
    "    a_grid, z_grid, Π = arrays\n",
    "\n",
    "    # Compute current consumption as array c[i, j, ip]\n",
    "    a  = jnp.reshape(a_grid, (a_size, 1, 1))    # a[i]   ->  a[i, j, ip]\n",
    "    z  = jnp.reshape(z_grid, (1, z_size, 1))    # z[j]   ->  z[i, j, ip]\n",
    "    ap = jnp.reshape(a_grid, (1, 1, a_size))    # ap[ip] -> ap[i, j, ip]\n",
    "    c = w*z + (1 + r)*a - ap\n",
    "\n",
    "    # Calculate continuation rewards at all combinations of (a, z, ap)\n",
    "    v = jnp.reshape(v, (1, 1, a_size, z_size))  # v[ip, jp] -> v[i, j, ip, jp]\n",
    "    Π = jnp.reshape(Π, (1, z_size, 1, z_size))  # Π[j, jp]  -> Π[i, j, ip, jp]\n",
    "    EV = jnp.sum(v * Π, axis=3)                 # sum over last index jp\n",
    "\n",
    "    # Compute the right-hand side of the Bellman equation\n",
    "    return jnp.where(c > 0, jnp.log(c) + β * EV, -jnp.inf)"
   ]
  },
  {
   "cell_type": "markdown",
   "id": "7b03d4ad",
   "metadata": {
    "id": "67ee981b"
   },
   "source": [
    "The next function computes greedy policies."
   ]
  },
  {
   "cell_type": "code",
   "execution_count": null,
   "id": "38430636",
   "metadata": {
    "id": "980ffb29"
   },
   "outputs": [],
   "source": [
    "def get_greedy(v, constants, sizes, arrays):\n",
    "    \"Computes a v-greedy policy, returned as a set of indices.\"\n",
    "    return jnp.argmax(B(v, constants, sizes, arrays), axis=2)"
   ]
  },
  {
   "cell_type": "markdown",
   "id": "6ac673b8",
   "metadata": {
    "id": "3c1801df"
   },
   "source": [
    "We need to know rewards at a given policy for policy iteration."
   ]
  },
  {
   "cell_type": "code",
   "execution_count": null,
   "id": "71ae15da",
   "metadata": {
    "id": "f5852bf4"
   },
   "outputs": [],
   "source": [
    "def compute_r_σ(σ, constants, sizes, arrays):\n",
    "    \"\"\"\n",
    "    Compute the array r_σ[i, j] = r[i, j, σ[i, j]], which gives current\n",
    "    rewards given policy σ.\n",
    "    \"\"\"\n",
    "\n",
    "    # Unpack\n",
    "    r, w, β = constants\n",
    "    a_size, z_size = sizes\n",
    "    a_grid, z_grid, Π = arrays\n",
    "\n",
    "    # Compute r_σ[i, j]\n",
    "    a = jnp.reshape(a_grid, (a_size, 1))\n",
    "    z = jnp.reshape(z_grid, (1, z_size))\n",
    "    ap = a_grid[σ]\n",
    "    c = (1 + r)*a + w*z - ap\n",
    "    r_σ = jnp.log(c)\n",
    "\n",
    "    return r_σ"
   ]
  },
  {
   "cell_type": "markdown",
   "id": "ad269227",
   "metadata": {
    "id": "9779acee"
   },
   "source": [
    "The following linear operator is also needed for policy iteration."
   ]
  },
  {
   "cell_type": "code",
   "execution_count": null,
   "id": "f4e1d02a",
   "metadata": {
    "id": "ee6f3c05"
   },
   "outputs": [],
   "source": [
    "def R_σ(v, σ, constants, sizes, arrays):\n",
    "    \"\"\"\n",
    "    The value v_σ of a policy σ is defined as \n",
    "\n",
    "        v_σ = (I - β P_σ)^{-1} r_σ\n",
    "\n",
    "    Here we set up the linear map v -> R_σ v, where R_σ := I - β P_σ. \n",
    "\n",
    "    In the consumption problem, this map can be expressed as\n",
    "\n",
    "        (R_σ v)(a, z) = v(a, z) - β Σ_z' v(σ(a, z), z') Π(z, z')\n",
    "\n",
    "    Defining the map as above works in a more intuitive multi-index setting\n",
    "    (e.g. working with v[i, j] rather than flattening v to a one-dimensional\n",
    "    array) and avoids instantiating the large matrix P_σ.\n",
    "\n",
    "    \"\"\"\n",
    "    # Unpack\n",
    "    r, w, β = constants\n",
    "    a_size, z_size = sizes\n",
    "    a_grid, z_grid, Π = arrays\n",
    "\n",
    "    # Set up the array v[σ[i, j], jp]\n",
    "    zp_idx = jnp.arange(z_size)\n",
    "    zp_idx = jnp.reshape(zp_idx, (1, 1, z_size))\n",
    "    σ = jnp.reshape(σ, (a_size, z_size, 1))\n",
    "    V = v[σ, zp_idx]\n",
    "\n",
    "    # Expand Π[j, jp] to Π[i, j, jp]\n",
    "    Π = jnp.reshape(Π, (1, z_size, z_size))\n",
    "\n",
    "    # Compute and return v[i, j] - β Σ_jp v[σ[i, j], jp] * Π[j, jp]\n",
    "    return v - β * jnp.sum(V * Π, axis=2)"
   ]
  },
  {
   "cell_type": "markdown",
   "id": "10ce43fd",
   "metadata": {
    "id": "d47f25b0"
   },
   "source": [
    "The next function computes the lifetime value of a given policy."
   ]
  },
  {
   "cell_type": "code",
   "execution_count": null,
   "id": "278cd026",
   "metadata": {
    "id": "d9ce4bf5"
   },
   "outputs": [],
   "source": [
    "def get_value(σ, constants, sizes, arrays):\n",
    "    \"Get the value v_σ of policy σ by inverting the linear map R_σ.\"\n",
    "\n",
    "    r_σ = compute_r_σ(σ, constants, sizes, arrays)\n",
    "    # Reduce R_σ to a function in v\n",
    "    partial_R_σ = lambda v: R_σ(v, σ, constants, sizes, arrays)\n",
    "    # Compute inverse v_σ = (I - β P_σ)^{-1} r_σ\n",
    "    return jax.scipy.sparse.linalg.bicgstab(partial_R_σ, r_σ)[0]"
   ]
  },
  {
   "cell_type": "markdown",
   "id": "f705d20e",
   "metadata": {
    "id": "qiRnd8M57LZ1"
   },
   "source": [
    "The following function is used for optimistic policy iteration."
   ]
  },
  {
   "cell_type": "code",
   "execution_count": null,
   "id": "e64cad30",
   "metadata": {
    "id": "fKJFyp1cE5fk"
   },
   "outputs": [],
   "source": [
    "def T_σ(v, σ, constants, sizes, arrays):\n",
    "    \"The σ-policy operator.\"\n",
    "\n",
    "    # Unpack model\n",
    "    γ, w, β = constants\n",
    "    a_size, z_size = sizes\n",
    "    a_grid, z_grid, Π = arrays\n",
    "\n",
    "    r_σ = compute_r_σ(σ, constants, sizes, arrays)\n",
    "\n",
    "    # Compute the array v[σ[i, j], jp]\n",
    "    zp_idx = jnp.arange(z_size)\n",
    "    zp_idx = jnp.reshape(zp_idx, (1, 1, z_size))\n",
    "    σ = jnp.reshape(σ, (a_size, z_size, 1))\n",
    "    V = v[σ, zp_idx]      \n",
    "\n",
    "    # Convert Q[j, jp] to Q[i, j, jp] \n",
    "    Π = jnp.reshape(Π, (1, z_size, z_size))\n",
    "\n",
    "    # Calculate the expected sum Σ_jp v[σ[i, j], jp] * Q[i, j, jp]\n",
    "    Ev = np.sum(V * Π, axis=2)\n",
    "\n",
    "    return r_σ + β * np.sum(V * Π, axis=2)"
   ]
  },
  {
   "cell_type": "markdown",
   "id": "152a07a9",
   "metadata": {
    "id": "5a53ac60"
   },
   "source": [
    "Let's target these functions for JIT-compilation."
   ]
  },
  {
   "cell_type": "code",
   "execution_count": null,
   "id": "4321bf7e",
   "metadata": {
    "id": "63fedaa0"
   },
   "outputs": [],
   "source": [
    "B = jax.jit(B, static_argnums=(2,))\n",
    "compute_r_σ = jax.jit(compute_r_σ, static_argnums=(2,))\n",
    "get_greedy = jax.jit(get_greedy, static_argnums=(2,))\n",
    "get_value = jax.jit(get_value, static_argnums=(2,))\n",
    "R_σ = jax.jit(R_σ, static_argnums=(3,))\n",
    "T_σ = jax.jit(T_σ, static_argnums=(3,))"
   ]
  },
  {
   "cell_type": "markdown",
   "id": "1882849b",
   "metadata": {
    "id": "82f0c26b"
   },
   "source": [
    "## Solvers\n",
    "\n",
    "We will solve the household problem using Howard policy iteration."
   ]
  },
  {
   "cell_type": "code",
   "execution_count": null,
   "id": "f2861c45",
   "metadata": {
    "id": "24ec7591"
   },
   "outputs": [],
   "source": [
    "def policy_iteration(household, verbose=True):\n",
    "    \"Howard policy iteration routine.\"\n",
    "    constants = household.constants()\n",
    "    sizes = household.sizes()\n",
    "    arrays = household.arrays()\n",
    "    \n",
    "    vz = jnp.zeros(sizes)\n",
    "    σ = jnp.zeros(sizes, dtype=int)\n",
    "    i, error = 0, 1.0\n",
    "    while error > 0:\n",
    "        v_σ = get_value(σ, constants, sizes, arrays)\n",
    "        σ_new = get_greedy(v_σ, constants, sizes, arrays)\n",
    "        error = jnp.max(jnp.abs(σ_new - σ))\n",
    "        σ = σ_new\n",
    "        i = i + 1\n",
    "        if verbose:\n",
    "            print(f\"Concluded loop {i} with error {error}.\")\n",
    "    return σ"
   ]
  },
  {
   "cell_type": "markdown",
   "id": "3e4c934f",
   "metadata": {
    "id": "ESPsmqkOC7X-"
   },
   "source": [
    "We can also solve the problem using optimistic policy iteration."
   ]
  },
  {
   "cell_type": "code",
   "execution_count": null,
   "id": "e9ce9aa3",
   "metadata": {
    "id": "oxT7nm6-Ec7O"
   },
   "outputs": [],
   "source": [
    "def optimistic_policy_iteration(household, tol=1e-5, m=10):\n",
    "      constants = household.constants()\n",
    "      sizes = household.sizes()\n",
    "      arrays = household.arrays()\n",
    "\n",
    "      v = jnp.zeros(sizes)\n",
    "      error = tol + 1\n",
    "      while error > tol:\n",
    "        last_v = v\n",
    "        σ = get_greedy(v, constants, sizes, arrays)\n",
    "        for _ in range(m):\n",
    "          v = T_σ(v, σ, constants, sizes, arrays)\n",
    "        error = jnp.max(np.abs(v - last_v))\n",
    "      return get_greedy(v, constants, sizes, arrays) "
   ]
  },
  {
   "cell_type": "markdown",
   "id": "5b5380ba",
   "metadata": {
    "id": "32c0fa14"
   },
   "source": [
    "As a first example of what we can do, let’s compute and plot an optimal accumulation policy at fixed prices."
   ]
  },
  {
   "cell_type": "code",
   "execution_count": null,
   "id": "e7c5b083",
   "metadata": {
    "id": "880d56db",
    "incorrectly_encoded_metadata": "hide-output=false"
   },
   "outputs": [],
   "source": [
    "# Example prices\n",
    "r = 0.03\n",
    "w = 0.956\n",
    "\n",
    "# Create an instance of Housbehold\n",
    "household = Household(r=r, w=w)"
   ]
  },
  {
   "cell_type": "code",
   "execution_count": null,
   "id": "2854dd15",
   "metadata": {
    "colab": {
     "base_uri": "https://localhost:8080/"
    },
    "id": "mM1eRTmPY5xY",
    "outputId": "e465e724-fe6c-44bb-f435-613df9efc87c"
   },
   "outputs": [],
   "source": [
    "%%time \n",
    "σ_star_hpi = policy_iteration(household)"
   ]
  },
  {
   "cell_type": "code",
   "execution_count": null,
   "id": "6c0f5fa4",
   "metadata": {
    "colab": {
     "base_uri": "https://localhost:8080/"
    },
    "id": "718da8af",
    "outputId": "02e76f03-4dec-4739-e5ae-5d70a6a6f58b"
   },
   "outputs": [],
   "source": [
    "%%time \n",
    "σ_star = optimistic_policy_iteration(household)"
   ]
  },
  {
   "cell_type": "markdown",
   "id": "5fe893c3",
   "metadata": {
    "id": "077dcf0d"
   },
   "source": [
    "The next plot shows asset accumulation policies at different values of the exogenous state."
   ]
  },
  {
   "cell_type": "code",
   "execution_count": null,
   "id": "51f045b7",
   "metadata": {
    "colab": {
     "base_uri": "https://localhost:8080/",
     "height": 773
    },
    "id": "63942264",
    "incorrectly_encoded_metadata": "hide-output=false",
    "outputId": "1dc7dc61-2e84-4e30-a940-6c1033c5b8e7"
   },
   "outputs": [],
   "source": [
    "a_size, z_size = household.sizes()\n",
    "a_grid, z_grid, Π = household.arrays()\n",
    "\n",
    "fig, ax = plt.subplots(figsize=(9, 9))\n",
    "ax.plot(a_grid, a_grid, 'k--')  # 45 degrees\n",
    "for j in range(z_size):\n",
    "    lb = f'$z = {z_grid[j]:.2}$'\n",
    "    ax.plot(a_grid, a_grid[σ_star[:, j]], lw=2, alpha=0.6, label=lb)\n",
    "    ax.set_xlabel('current assets')\n",
    "    ax.set_ylabel('next period assets')\n",
    "ax.legend(loc='upper left')\n",
    "\n",
    "plt.show()"
   ]
  },
  {
   "cell_type": "markdown",
   "id": "42254244",
   "metadata": {
    "id": "07f90445"
   },
   "source": [
    "### Capital Supply\n",
    "\n",
    "To start thinking about equilibrium, we need to know how much capital households supply at a given interest rate $r$.\n",
    "\n",
    "This quantity can be calculated by taking the stationary distribution of assets under the optimal policy and computing the mean.\n",
    "\n",
    "The next function implements this calculation for a given policy $\\sigma$."
   ]
  },
  {
   "cell_type": "code",
   "execution_count": null,
   "id": "d3cde17b",
   "metadata": {
    "id": "037b3e6b"
   },
   "outputs": [],
   "source": [
    "def compute_asset_stationary(σ, constants, sizes, arrays):\n",
    "    \"\"\"\n",
    "    Compute the stationary distribution of assets under the policy σ.\n",
    "    \n",
    "    First we compute the stationary distribution of P_σ, which is for the \n",
    "    bivariate Markov chain of the state (a_t, z_t).  Then we sum out\n",
    "    z_t to get the marginal distribution for a_t.\n",
    "    \n",
    "    \"\"\"\n",
    "    \n",
    "    # Unpack\n",
    "    r, w, β = constants\n",
    "    a_size, z_size = sizes\n",
    "    a_grid, z_grid, Π = arrays\n",
    "    \n",
    "    # Construct P_σ as an array of the form P_σ[i, j, ip, jp]\n",
    "    ap_idx = jnp.arange(a_size)\n",
    "    ap_idx = jnp.reshape(ap_idx, (1, 1, a_size, 1))\n",
    "    σ = jnp.reshape(σ, (a_size, z_size, 1, 1))\n",
    "    A = jnp.where(σ == ap_idx, 1, 0)\n",
    "    Π = jnp.reshape(Π, (1, z_size, 1, z_size))\n",
    "    P_σ = A * Π\n",
    "    \n",
    "    # Reshape P_σ into a matrix\n",
    "    n = a_size * z_size\n",
    "    P_σ = jnp.reshape(P_σ, (n, n))\n",
    "    \n",
    "    # Get stationary distribution and reshape onto [i, j] grid\n",
    "    ψ = compute_stationary(P_σ)\n",
    "    ψ = jnp.reshape(ψ, (a_size, z_size))\n",
    "    \n",
    "    # Sum along the rows to get the marginal distribution of assets\n",
    "    ψ_a = jnp.sum(ψ, axis=1)\n",
    "    return ψ_a"
   ]
  },
  {
   "cell_type": "markdown",
   "id": "710faf11",
   "metadata": {
    "id": "467965cb"
   },
   "source": [
    "We will also target this function for JIT compilation."
   ]
  },
  {
   "cell_type": "code",
   "execution_count": null,
   "id": "bdf28ef0",
   "metadata": {
    "id": "d208ec9a"
   },
   "outputs": [],
   "source": [
    "compute_asset_stationary = jax.jit(compute_asset_stationary, \n",
    "                                  static_argnums=(2,))"
   ]
  },
  {
   "cell_type": "markdown",
   "id": "23b73fd2",
   "metadata": {
    "id": "2b2e921e"
   },
   "source": [
    "Let's give this a test run."
   ]
  },
  {
   "cell_type": "code",
   "execution_count": null,
   "id": "c4f95312",
   "metadata": {
    "id": "336ffaeb"
   },
   "outputs": [],
   "source": [
    "constants = household.constants()\n",
    "sizes = household.sizes()\n",
    "arrays = household.arrays()\n",
    "ψ = compute_asset_stationary(σ_star, constants, sizes, arrays)"
   ]
  },
  {
   "cell_type": "markdown",
   "id": "ba1f6934",
   "metadata": {
    "id": "7ffddabf"
   },
   "source": [
    "The distribution should sum to one:"
   ]
  },
  {
   "cell_type": "code",
   "execution_count": null,
   "id": "4feb2c0d",
   "metadata": {
    "colab": {
     "base_uri": "https://localhost:8080/"
    },
    "id": "ef0e2c95",
    "outputId": "2b6ed962-c13c-4ec8-b95d-d8de66b6f581"
   },
   "outputs": [],
   "source": [
    "ψ.sum()"
   ]
  },
  {
   "cell_type": "markdown",
   "id": "cecea551",
   "metadata": {
    "id": "19e8915a"
   },
   "source": [
    "Now we are ready to compute capital supply by households given wages and interest rates."
   ]
  },
  {
   "cell_type": "code",
   "execution_count": null,
   "id": "ccb6b429",
   "metadata": {
    "id": "5ad39472",
    "incorrectly_encoded_metadata": "hide-output=false"
   },
   "outputs": [],
   "source": [
    "def capital_supply(household):\n",
    "    \"\"\"\n",
    "    Map household decisions to the induced level of capital stock.\n",
    "    \"\"\"\n",
    "    constants = household.constants()\n",
    "    sizes = household.sizes()\n",
    "    arrays = household.arrays()\n",
    "    \n",
    "    # Compute the optimal policy\n",
    "    σ_star = optimistic_policy_iteration(household)\n",
    "    # Compute the stationary distribution\n",
    "    ψ_a = compute_asset_stationary(σ_star, constants, sizes, arrays)\n",
    "    # Return K\n",
    "    return float(jnp.sum(ψ_a * household.a_grid))"
   ]
  },
  {
   "cell_type": "markdown",
   "id": "b85fe3ca",
   "metadata": {
    "id": "753a857a"
   },
   "source": [
    "## Equilibrium\n",
    "\n",
    "We construct  a *stationary rational expectations equilibrium* (SREE).\n",
    "\n",
    "In such an equilibrium\n",
    "\n",
    "- prices induce behavior that generates aggregate quantities consistent with the prices  \n",
    "- aggregate quantities and prices are constant over time  \n",
    "\n",
    "\n",
    "In more detail, an SREE lists a set of prices, savings and production policies such that\n",
    "\n",
    "- households want to choose the specified savings policies taking the prices as given  \n",
    "- firms maximize profits taking the same prices as given  \n",
    "- the resulting aggregate quantities are consistent with the prices; in particular, the demand for capital equals the supply  \n",
    "- aggregate quantities (defined as cross-sectional averages) are constant  \n",
    "\n",
    "\n",
    "In practice, once parameter values are set, we can check for an SREE by the following steps\n",
    "\n",
    "1. pick a proposed quantity $ K $ for aggregate capital  \n",
    "1. determine corresponding prices, with interest rate $ r $ determined by [(70.1)](#equation-aiy-rgk) and a wage rate $ w(r) $ as given in [(70.2)](#equation-aiy-wgr)  \n",
    "1. determine the common optimal savings policy of the households given these prices  \n",
    "1. compute aggregate capital as the mean of steady state capital given this savings policy  \n",
    "\n",
    "\n",
    "If this final quantity agrees with $ K $ then we have a SREE.  Otherwise we adjust $K$.\n",
    "\n",
    "These steps describe a fixed point problem which we solve below."
   ]
  },
  {
   "cell_type": "markdown",
   "id": "58d330a3",
   "metadata": {
    "id": "315fdbbe"
   },
   "source": [
    "Let’s inspect visually as a first pass.\n",
    "\n",
    "The following code draws aggregate supply and demand curves for capital.\n",
    "\n",
    "The intersection gives equilibrium interest rates and capital."
   ]
  },
  {
   "cell_type": "code",
   "execution_count": null,
   "id": "001f8cdc",
   "metadata": {
    "id": "821ed7ad",
    "incorrectly_encoded_metadata": "hide-output=false"
   },
   "outputs": [],
   "source": [
    "# Create default instances\n",
    "household = Household()\n",
    "firm = Firm()\n",
    "\n",
    "# Create a grid of r values at which to compute demand and supply of capital\n",
    "num_points = 50\n",
    "r_vals = np.linspace(0.005, 0.04, num_points)"
   ]
  },
  {
   "cell_type": "code",
   "execution_count": null,
   "id": "de25dea1",
   "metadata": {
    "colab": {
     "base_uri": "https://localhost:8080/"
    },
    "id": "8fI4gTHlyqaE",
    "outputId": "55bb5732-3451-43db-d1d0-6d997303b088"
   },
   "outputs": [],
   "source": [
    "r_vals"
   ]
  },
  {
   "cell_type": "code",
   "execution_count": null,
   "id": "7a418395",
   "metadata": {
    "colab": {
     "base_uri": "https://localhost:8080/"
    },
    "id": "86f080d1",
    "incorrectly_encoded_metadata": "hide-output=false",
    "outputId": "9a902730-91a5-41d6-8b2f-95e9c158f0d5"
   },
   "outputs": [],
   "source": [
    "%%time\n",
    "# Compute supply of capital\n",
    "k_vals = np.empty(num_points)\n",
    "for i, r in enumerate(r_vals):\n",
    "    household.r = r\n",
    "    household.w = firm.r_to_w(r)\n",
    "    k_vals[i] = capital_supply(household)"
   ]
  },
  {
   "cell_type": "code",
   "execution_count": null,
   "id": "bbbf646f",
   "metadata": {
    "colab": {
     "base_uri": "https://localhost:8080/",
     "height": 449
    },
    "id": "72c8f573",
    "incorrectly_encoded_metadata": "hide-output=false",
    "outputId": "cb745333-0325-4d74-9f91-dad34dd03ccd"
   },
   "outputs": [],
   "source": [
    "# Plot against demand for capital by firms\n",
    "fig, ax = plt.subplots()\n",
    "ax.plot(k_vals, r_vals, lw=2, alpha=0.6, label='supply of capital')\n",
    "ax.plot(k_vals, firm.rd(k_vals), lw=2, alpha=0.6, label='demand for capital')\n",
    "ax.grid()\n",
    "ax.set_xlabel('capital')\n",
    "ax.set_ylabel('interest rate')\n",
    "ax.legend(loc='upper right')\n",
    "\n",
    "plt.show()\n",
    "\n",
    "# Solve for the fixed point"
   ]
  },
  {
   "cell_type": "code",
   "execution_count": null,
   "id": "7e38fe09",
   "metadata": {
    "id": "a2a41546"
   },
   "outputs": [],
   "source": [
    "def excess_demand(K):\n",
    "    r = firm.rd(K)\n",
    "    w = firm.r_to_w(r)\n",
    "    household.r, household.w = r, w\n",
    "    return K - capital_supply(household)"
   ]
  },
  {
   "cell_type": "code",
   "execution_count": null,
   "id": "f4927cef",
   "metadata": {
    "colab": {
     "base_uri": "https://localhost:8080/"
    },
    "id": "KqhJ9O7WWZPj",
    "outputId": "ff47f31c-bb2e-4a16-8b5a-647fa3cd9c5c"
   },
   "outputs": [],
   "source": [
    "k = 8.5\n",
    "excess_demand(k)"
   ]
  },
  {
   "cell_type": "code",
   "execution_count": null,
   "id": "7f3d25dd",
   "metadata": {
    "colab": {
     "base_uri": "https://localhost:8080/"
    },
    "id": "NSGtQ--_f04M",
    "outputId": "b03e170d-0eef-486e-a3dc-7978969ed6e9"
   },
   "outputs": [],
   "source": [
    "%%time\n",
    "num_points = 50\n",
    "k_vals = np.linspace(4, 12, num_points)\n",
    "out = [excess_demand(k) for k in k_vals]"
   ]
  },
  {
   "cell_type": "code",
   "execution_count": null,
   "id": "78ce8f45",
   "metadata": {
    "colab": {
     "base_uri": "https://localhost:8080/",
     "height": 449
    },
    "id": "a2e06bba",
    "incorrectly_encoded_metadata": "hide-output=false",
    "outputId": "dd00ff98-0b7d-4432-d400-5e78abafd299"
   },
   "outputs": [],
   "source": [
    "fig, ax = plt.subplots()\n",
    "ax.plot(k_vals, out, lw=2, alpha=0.6, label='excess demand')\n",
    "ax.plot(k_vals, np.zeros_like(k_vals), 'k--', label=\"45\")\n",
    "ax.set_xlabel('capital')\n",
    "ax.legend()\n",
    "plt.show()"
   ]
  },
  {
   "cell_type": "code",
   "execution_count": null,
   "id": "83d5b2e5",
   "metadata": {
    "id": "6856ca46"
   },
   "outputs": [],
   "source": [
    "def bisect(f, a, b, tol=10e-2):\n",
    "    \"\"\"\n",
    "    Implements the bisection root finding algorithm, assuming that f is a\n",
    "    real-valued function on [a, b] satisfying f(a) < 0 < f(b).\n",
    "    \"\"\"\n",
    "    lower, upper = a, b\n",
    "\n",
    "    while upper - lower > tol:\n",
    "        middle = 0.5 * (upper + lower)\n",
    "        if f(middle) > 0:   # root is between lower and middle\n",
    "            lower, upper = lower, middle\n",
    "        else:               # root is between middle and upper\n",
    "            lower, upper = middle, upper\n",
    "\n",
    "    return 0.5 * (upper + lower)"
   ]
  },
  {
   "cell_type": "code",
   "execution_count": null,
   "id": "48de3c8a",
   "metadata": {
    "colab": {
     "base_uri": "https://localhost:8080/"
    },
    "id": "f539dade",
    "outputId": "3dcd97a1-d437-4415-9733-73e5f3657826"
   },
   "outputs": [],
   "source": [
    "bisect(excess_demand, 6.0, 10.0)"
   ]
  },
  {
   "cell_type": "code",
   "execution_count": null,
   "id": "9f4af0d5",
   "metadata": {
    "id": "249e9fd5"
   },
   "outputs": [],
   "source": [
    "def compute_equilibrium(household, firm):\n",
    "\n",
    "    def excess_supply(K):\n",
    "        r = firm.rd(K)\n",
    "        w = firm.r_to_w(r)\n",
    "        household.r, household.w = r, w\n",
    "        return capital_supply(household) - K\n",
    "\n",
    "    solution = bisect(excess_demand, 6.0, 10.0)\n",
    "    return solution"
   ]
  },
  {
   "cell_type": "code",
   "execution_count": null,
   "id": "3b40fdce",
   "metadata": {
    "colab": {
     "base_uri": "https://localhost:8080/"
    },
    "id": "e5db8933",
    "outputId": "cf3392c7-7abe-4068-e09d-b8874fd98d6a"
   },
   "outputs": [],
   "source": [
    "%%time\n",
    "household = Household()\n",
    "firm = Firm()\n",
    "compute_equilibrium(household, firm)"
   ]
  },
  {
   "cell_type": "markdown",
   "id": "4f911836",
   "metadata": {
    "id": "8o_oevnQY_3q"
   },
   "source": [
    "# Simulations"
   ]
  },
  {
   "cell_type": "code",
   "execution_count": null,
   "id": "d7bc0b3f",
   "metadata": {
    "id": "6099487a"
   },
   "outputs": [],
   "source": []
  },
  {
   "cell_type": "code",
   "execution_count": null,
   "id": "d5d6922b",
   "metadata": {
    "id": "7xxReHEiTJqV"
   },
   "outputs": [],
   "source": []
  },
  {
   "cell_type": "code",
   "execution_count": null,
   "id": "c2c820c0",
   "metadata": {
    "id": "iROq1aa1ZaSU"
   },
   "outputs": [],
   "source": []
  }
 ],
 "metadata": {
  "kernelspec": {
   "display_name": "Python 3 (ipykernel)",
   "language": "python",
   "name": "python3"
  }
 },
 "nbformat": 4,
 "nbformat_minor": 5
}
