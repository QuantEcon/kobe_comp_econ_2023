{
 "cells": [
  {
   "cell_type": "markdown",
   "id": "8a2e10c6",
   "metadata": {},
   "source": [
    "# Monte Carlo and Option Pricing \n",
    "\n",
    "* Author: [John Stachurski](http://johnstachurski.net/)\n",
    "\n",
    "We discuss [Monte Carlo\n",
    "methods](https://en.wikipedia.org/wiki/Monte_Carlo_method) for computing\n",
    "expectations with applications in finance.\n",
    "\n",
    "Our main application will be pricing a European option.\n",
    "\n",
    "We will show that Monte Carlo is particularly helpful when the distribution of\n",
    "interest has no neat analytical form.\n",
    "\n",
    "We will also touch on some high performance computing topics, including \n",
    "\n",
    "* just-in-time compilers \n",
    "* GPUs and \n",
    "* parallelization.\n",
    "\n",
    "We begin with the following imports:"
   ]
  },
  {
   "cell_type": "code",
   "execution_count": null,
   "id": "bbff0a61",
   "metadata": {},
   "outputs": [],
   "source": [
    "import numpy as np\n",
    "import matplotlib.pyplot as plt\n",
    "import numba\n",
    "from numpy.random import randn"
   ]
  },
  {
   "cell_type": "markdown",
   "id": "d8367ab9",
   "metadata": {},
   "source": [
    "## An Introduction to Monte Carlo\n",
    "\n",
    "In this section we describe the Monte Carlo method of integration via a simple\n",
    "example.\n",
    "\n",
    "### Share Price with Known Distribution\n",
    "\n",
    "Let's suppose that we are considering buying a share (or many shares) in a\n",
    "given company.\n",
    "\n",
    "Our plan is either to \n",
    "\n",
    "* buy it now, hold it for one year and then sell it, or\n",
    "* do something else with our money.\n",
    "\n",
    "We start by thinking of the share price in one year as a random variable $S$.\n",
    "\n",
    "(Let's forget about dividends for now, so that our return on holding the share\n",
    "is the relative change in its price.)\n",
    "\n",
    "To decide whether or not to go ahead, we need to know some features of the\n",
    "distribution of $S$.\n",
    "\n",
    "For example, we might decide to buy if the mean is high and the variance is\n",
    "low.\n",
    "\n",
    "(High expected returns and low risk.)\n",
    "\n",
    "Suppose that, after analyzing the data, we have decided that $S$ is well\n",
    "represented by a lognormal distribution with parameters $\\mu, \\sigma$ .\n",
    "\n",
    "* $S$ has the same distribution as $\\exp(\\mu + \\sigma Z)$ where $Z$ is standard normal.\n",
    "* we write this statement as $S \\sim LN(\\mu, \\sigma)$.\n",
    "\n",
    "Any good reference on statistics will tell us that the mean and variance are\n",
    "\n",
    "$$\n",
    "    \\mathbb E S \n",
    "        = \\exp \\left(\\mu + \\frac{\\sigma^2}{2} \\right)\n",
    "$$\n",
    "\n",
    "and \n",
    "\n",
    "$$ \n",
    "    \\mathop{\\mathrm{Var}} S \n",
    "    = [\\exp(\\sigma^2) - 1] \\exp(2\\mu + \\sigma^2)\n",
    "$$\n",
    "\n",
    "So far we have no need for a computer.\n",
    "\n",
    "\n",
    "### Share Price with Unknown Distribution\n",
    "\n",
    "But now suppose that we study the distribution of $S$ more carefully, leading\n",
    "us to decompose the price into multiple factors.\n",
    "\n",
    "In particular, we conclude that the share price depends on three variables,\n",
    "with\n",
    "\n",
    "$$\n",
    "    S = (X_1 + X_2 + X_3)^p\n",
    "$$\n",
    "\n",
    "We assume that\n",
    "\n",
    "* $p$ is a positive number, which is known to us,\n",
    "* $X_i \\sim LN(\\mu_i, \\sigma_i)$ for $i=1,2,3$,\n",
    "* the values of $\\mu_i, \\sigma_i$ have all been estimated, and\n",
    "* the random variables $X_1$, $X_2$ and $X_3$ are independent.\n",
    "\n",
    "How should we compute the mean of $S$?\n",
    "\n",
    "To do this with pencil and paper is hard (unless, say, $p=1$).\n",
    "\n",
    "But fortunately there's an easy way to do this, at least approximately:\n",
    "\n",
    "1. Generate $n$ independent draws of $X_1$, $X_2$ and $X_3$ on a computer,\n",
    "1. Use these draws to generate $n$ independent draws of $S$, and\n",
    "1. Take the average value of these draws of $S$.\n",
    "\n",
    "By the law of large numbers, this average will be close to the true mean when\n",
    "$n$ is large.\n",
    "\n",
    "We use the following values for $p$ and each $\\mu_i$ and $\\sigma_i$."
   ]
  },
  {
   "cell_type": "code",
   "execution_count": null,
   "id": "912b7802",
   "metadata": {},
   "outputs": [],
   "source": [
    "n = 10_000_000\n",
    "p = 0.5\n",
    "μ_1, μ_2, μ_3 = 0.2, 0.8, 0.4\n",
    "σ_1, σ_2, σ_3 = 0.1, 0.05, 0.2"
   ]
  },
  {
   "cell_type": "markdown",
   "id": "7954bd40",
   "metadata": {},
   "source": [
    "#### A Routine using Loops in Python"
   ]
  },
  {
   "cell_type": "markdown",
   "id": "1df2c877",
   "metadata": {},
   "source": [
    "Here's a routine using native Python loops to calculate the desired mean\n",
    "\n",
    "$$\n",
    "    \\frac{1}{n} \\sum_{i=1}^n S_i\n",
    "    \\approx \\mathbb E S\n",
    "$$"
   ]
  },
  {
   "cell_type": "code",
   "execution_count": null,
   "id": "c38aeb41",
   "metadata": {},
   "outputs": [],
   "source": [
    "def compute_mean(n=10_000_000):\n",
    "    S = 0.0\n",
    "    for i in range(n):\n",
    "        X_1 = np.exp(μ_1 + σ_1 * randn())\n",
    "        X_2 = np.exp(μ_2 + σ_2 * randn())\n",
    "        X_3 = np.exp(μ_3 + σ_3 * randn())\n",
    "        S += (X_1 + X_2 + X_3)**p\n",
    "    return(S / n)"
   ]
  },
  {
   "cell_type": "markdown",
   "id": "163b2602",
   "metadata": {},
   "source": [
    "Let's test it and see how long it takes."
   ]
  },
  {
   "cell_type": "code",
   "execution_count": null,
   "id": "95988320",
   "metadata": {},
   "outputs": [],
   "source": [
    "compute_mean()"
   ]
  },
  {
   "cell_type": "markdown",
   "id": "cf2e288d",
   "metadata": {},
   "source": [
    "#### Using Numba's JIT Compiler"
   ]
  },
  {
   "cell_type": "code",
   "execution_count": null,
   "id": "0e68c6f0",
   "metadata": {
    "tags": []
   },
   "outputs": [],
   "source": [
    "compute_mean_numba = numba.jit(compute_mean)"
   ]
  },
  {
   "cell_type": "code",
   "execution_count": null,
   "id": "858a41d8",
   "metadata": {},
   "outputs": [],
   "source": [
    "%%time\n",
    "\n",
    "compute_mean_numba()"
   ]
  },
  {
   "cell_type": "code",
   "execution_count": null,
   "id": "4f49b855",
   "metadata": {},
   "outputs": [],
   "source": [
    "%%time\n",
    "\n",
    "compute_mean_numba()"
   ]
  },
  {
   "cell_type": "markdown",
   "id": "f41d731a",
   "metadata": {},
   "source": [
    "#### A Vectorized Routine"
   ]
  },
  {
   "cell_type": "markdown",
   "id": "2cf64caf",
   "metadata": {},
   "source": [
    "Now we implement a vectorized routine using traditional NumPy array processing."
   ]
  },
  {
   "cell_type": "code",
   "execution_count": null,
   "id": "aad3fba2",
   "metadata": {},
   "outputs": [],
   "source": [
    "def compute_mean_vectorized(n=10_000_000):\n",
    "    X_1 = np.exp(μ_1 + σ_1 * randn(n))\n",
    "    X_2 = np.exp(μ_2 + σ_2 * randn(n))\n",
    "    X_3 = np.exp(μ_3 + σ_3 * randn(n))\n",
    "    S = (X_1 + X_2 + X_3)**p\n",
    "    return(S.mean())"
   ]
  },
  {
   "cell_type": "code",
   "execution_count": null,
   "id": "c19c482a",
   "metadata": {},
   "outputs": [],
   "source": [
    "%%time\n",
    "\n",
    "compute_mean_vectorized()"
   ]
  },
  {
   "cell_type": "markdown",
   "id": "e46636b1",
   "metadata": {},
   "source": [
    "#### Using Google JAX"
   ]
  },
  {
   "cell_type": "markdown",
   "id": "a5d2858c",
   "metadata": {},
   "source": [
    "Finally, let's try to shift this to the GPU (if you have one) and parallelize it effectively."
   ]
  },
  {
   "cell_type": "code",
   "execution_count": null,
   "id": "21ae11ed",
   "metadata": {},
   "outputs": [],
   "source": [
    "import jax\n",
    "import jax.numpy as jnp"
   ]
  },
  {
   "cell_type": "code",
   "execution_count": null,
   "id": "c432f08f",
   "metadata": {},
   "outputs": [],
   "source": [
    "!nvidia-smi"
   ]
  },
  {
   "cell_type": "code",
   "execution_count": null,
   "id": "faff85cd",
   "metadata": {
    "tags": []
   },
   "outputs": [],
   "source": [
    "def compute_mean_jax(n=10_000_000):\n",
    "    key = jax.random.PRNGKey(1)\n",
    "    Z = jax.random.normal(key, (3, n))\n",
    "    X_1 = jnp.exp(μ_1 + σ_1 * Z[0,:])\n",
    "    X_2 = jnp.exp(μ_2 + σ_2 * Z[1,:])\n",
    "    X_3 = jnp.exp(μ_3 + σ_3 * Z[2,:])\n",
    "    S = (X_1 + X_2 + X_3)**p\n",
    "    return(S.mean())"
   ]
  },
  {
   "cell_type": "code",
   "execution_count": null,
   "id": "8f629717",
   "metadata": {},
   "outputs": [],
   "source": [
    "%%time\n",
    "\n",
    "compute_mean_jax()"
   ]
  },
  {
   "cell_type": "code",
   "execution_count": null,
   "id": "bafc2ccd",
   "metadata": {},
   "outputs": [],
   "source": [
    "compute_mean_jax_jitted = jax.jit(compute_mean_jax)"
   ]
  },
  {
   "cell_type": "code",
   "execution_count": null,
   "id": "40a57625",
   "metadata": {},
   "outputs": [],
   "source": [
    "%%time\n",
    "\n",
    "compute_mean_jax_jitted()"
   ]
  },
  {
   "cell_type": "code",
   "execution_count": null,
   "id": "98093f66",
   "metadata": {},
   "outputs": [],
   "source": [
    "%%time\n",
    "\n",
    "compute_mean_jax_jitted()"
   ]
  },
  {
   "cell_type": "markdown",
   "id": "067e4335",
   "metadata": {},
   "source": [
    "## Pricing a European Call Option under Risk Neutrality\n",
    "\n",
    "As our next step, we are going to price a European call option under risk\n",
    "neutrality.\n",
    "\n",
    "Let's first discuss risk neutrality and then introduce European options.\n",
    "\n",
    "### Risk-Neutral Pricing\n",
    "\n",
    "When we use risk-neutral pricing, we determine the price of a given asset\n",
    "according to its expected payoff.\n",
    "\n",
    "$$\n",
    "\\text{cost } = \\text{ expected benefit}\n",
    "$$\n",
    "\n",
    "For example, suppose someone promises to pay you\n",
    "\n",
    "- 1,000,000 dollars if \"heads\" is the outcome of a fair coin flip\n",
    "- 0 dollars if \"tails\" is the outcome\n",
    "\n",
    "Let's denote the payoff as $G$, so that \n",
    "\n",
    "$$\n",
    "    \\mathbb P\\left\\{G = 10^6 \\right\\} = \\mathbb P\\{G = 0\\} = \\frac{1}{2}\n",
    "$$\n",
    "\n",
    "Suppose in addition that you can sell this promise to anyone who wants to\n",
    "hold it \n",
    "\n",
    "- First they pay you $P$, the price at which you sell it\n",
    "- Then they get $G$, which could be either 1,000,000 or 0.\n",
    "\n",
    "What's a fair price for this asset (this promise)?\n",
    "\n",
    "The definition of fair is ambiguous but what we can say is that the\n",
    "risk-neutral price is 500,000 dollars.\n",
    "\n",
    "This is because the risk-neutral price is just the expected payoff of the\n",
    "asset, which is\n",
    "\n",
    "$$\n",
    "    \\mathbb E G = \\frac{1}{2} \\times 10^6 + \\frac{1}{2} \\times 0 = 5 \\times 10^5\n",
    "$$"
   ]
  },
  {
   "cell_type": "markdown",
   "id": "7ef03ac7",
   "metadata": {},
   "source": [
    "### A Comment on Risk\n",
    "\n",
    "As suggested by the name, the risk-neutral price ignores risk.\n",
    "\n",
    "To understand this, consider whether you would pay 500,000 dollars for such a\n",
    "promise.\n",
    "\n",
    "Would you prefer to receive 500,000 for sure or 1,000,000 dollars with\n",
    "50% probability and nothing with 50% probability?\n",
    "\n",
    "At least some readers will strictly prefer the first option --- although some\n",
    "might prefer the second.\n",
    "\n",
    "Thinking about this makes us realize that 500,000 is not necessarily the\n",
    "\"right\" price --- or the price that we would see if there was a market for\n",
    "these promises.\n",
    "\n",
    "Nonetheless, the risk-neutral price is an important benchmark, which economists\n",
    "and financial market participants routinely try to calculate."
   ]
  },
  {
   "cell_type": "markdown",
   "id": "36d22150",
   "metadata": {},
   "source": [
    "### Discounting\n",
    "\n",
    "One thing we ignored in the previous discussion was time.\n",
    "\n",
    "In general, receiving $x$ dollars now is preferable to receiving $x$ dollars\n",
    "in $n$ periods (e.g., 10 years).\n",
    "\n",
    "After all, if we receive $x$ dollars now, we could put it in the bank at\n",
    "interest rate $r > 0$ and receive $ (1 + r)^n x $ in $n$ periods.\n",
    "\n",
    "Hence future payments need to be discounted.\n",
    "\n",
    "We will implement discounting by \n",
    "\n",
    "* multiplying a payment in one period by $\\beta < 1$\n",
    "* multiplying a payment in $n$ periods by $\\beta^n$, etc.\n",
    "\n",
    "The same adjustment needs to be applied to our risk-neutral price for the\n",
    "promise described above.\n",
    "\n",
    "Thus, if $G$ is realized in $n$ periods, then the risk-neutral price is\n",
    "\n",
    "$$\n",
    "    P = \\beta^n \\mathbb E G \n",
    "      = \\beta^n 5 \\times 10^5\n",
    "$$"
   ]
  },
  {
   "cell_type": "markdown",
   "id": "bc50c051",
   "metadata": {},
   "source": [
    "### European Call Options\n",
    "\n",
    "Now let's price a European call option.\n",
    "\n",
    "The option is described by three things:\n",
    "\n",
    "2. $n$, the **expiry date**,\n",
    "2. $K$, the **strike price**, and\n",
    "3. $S_n$, the price of the **underlying** asset at date $n$.\n",
    "\n",
    "For example, suppose that the underlying is one share in Amazon.\n",
    "\n",
    "The owner of this option has the right to buy one share in Amazon at price $K$ after $n$ days.\n",
    "\n",
    "If $S_n > K$, then the owner will exercise the option, buy at $K$, sell at\n",
    "$S_n$, and make profit $S_n - K$.\n",
    "\n",
    "If $S_n \\leq K$, then the owner will not exercise the option and the payoff is zero.\n",
    "\n",
    "Thus, the payoff is $\\max\\{ S_n - K, 0 \\}$.\n",
    "\n",
    "Under the assumption of risk neutrality,  the price of the option is \n",
    "the expected discounted payoff:\n",
    "\n",
    "$$ P = \\beta^n \\mathbb E \\max\\{ S_n - K, 0 \\} $$\n",
    "\n",
    "Now all we need to do is specify the distribution of $S_n$, so the expectation\n",
    "can be calculated."
   ]
  },
  {
   "cell_type": "markdown",
   "id": "aa21f4d1",
   "metadata": {},
   "source": [
    "**Exercise**\n",
    "\n",
    "Suppose we know that $S_n \\sim LN(\\mu, \\sigma)$ and $\\mu$ and $\\sigma$ are known.\n",
    "\n",
    "Use the fact that if $S_n^1, \\ldots, S_n^M$ are independent draws from this lognormal distribution then, by the law of large numbers,\n",
    "\n",
    "$$ \\mathbb E \\max\\{ S_n - K, 0 \\} \n",
    "    \\approx\n",
    "    \\frac{1}{M} \\sum_{m=1}^M \\max \\{S_n^m - K, 0 \\}\n",
    "    $$"
   ]
  },
  {
   "cell_type": "markdown",
   "id": "8bbb2fb5",
   "metadata": {},
   "source": [
    "Use the following parameter values:"
   ]
  },
  {
   "cell_type": "code",
   "execution_count": null,
   "id": "7d54a5f4",
   "metadata": {},
   "outputs": [],
   "source": [
    "μ = 1.0\n",
    "σ = 0.1"
   ]
  },
  {
   "cell_type": "code",
   "execution_count": null,
   "id": "9c375bc6",
   "metadata": {
    "tags": []
   },
   "outputs": [],
   "source": [
    "K = 1\n",
    "n = 10\n",
    "β = 0.95"
   ]
  },
  {
   "cell_type": "markdown",
   "id": "89350d18",
   "metadata": {},
   "source": [
    "Set the simulation size to"
   ]
  },
  {
   "cell_type": "code",
   "execution_count": null,
   "id": "96ae325c",
   "metadata": {},
   "outputs": [],
   "source": [
    "M = 10_000_000"
   ]
  },
  {
   "cell_type": "code",
   "execution_count": null,
   "id": "b2fd2662",
   "metadata": {},
   "outputs": [],
   "source": [
    "# Put your code here"
   ]
  },
  {
   "cell_type": "code",
   "execution_count": null,
   "id": "4ff9accf",
   "metadata": {},
   "outputs": [],
   "source": [
    "for _ in range(12):\n",
    "    print('solution below')"
   ]
  },
  {
   "cell_type": "code",
   "execution_count": null,
   "id": "03308341",
   "metadata": {},
   "outputs": [],
   "source": [
    "S = np.exp(μ + σ * np.random.randn(M))\n",
    "return_draws = np.maximum(S - K, 0)\n",
    "P = β**n * np.mean(return_draws) \n",
    "print(f\"The Monte Carlo option price is {P:3f}\")"
   ]
  },
  {
   "cell_type": "markdown",
   "id": "163f9972",
   "metadata": {},
   "source": [
    "## Pricing Via a Dynamic Model\n",
    "\n",
    "In this exercise we investigate a more realistic model for the share price $S_n$.\n",
    "\n",
    "This comes from specifying the underlying dynamics of the share price.\n",
    "\n",
    "First we specify the dynamics.\n",
    "\n",
    "Then we'll compute the price of the option using Monte Carlo.\n",
    "\n",
    "### Simple Dynamics\n",
    "\n",
    "One simple model for $\\{S_t\\}$ is\n",
    "\n",
    "$$ \\ln \\frac{S_{t+1}}{S_t} = \\mu + \\sigma \\xi_{t+1} $$\n",
    "\n",
    "where \n",
    "\n",
    "* $S_0$ is normally distributed and\n",
    "* $\\{ \\xi_t \\}$ is IID and standard normal.  \n",
    "\n",
    "\n",
    "**Exercise**\n",
    "\n",
    "Show that, under the stated assumptions, $S_n$ is lognormally distributed."
   ]
  },
  {
   "cell_type": "code",
   "execution_count": null,
   "id": "0475241c",
   "metadata": {},
   "outputs": [],
   "source": [
    "for _ in range(12):\n",
    "    print('solution below')"
   ]
  },
  {
   "cell_type": "markdown",
   "id": "1187d49a",
   "metadata": {},
   "source": [
    "With $s_t := \\ln S_t$, the price dynamics become\n",
    "\n",
    "$$ s_{t+1} = s_t + \\mu + \\sigma \\xi_{t+1} $$\n",
    "\n",
    "Since $s_0$ is normal and $\\xi_1$ is normal and IID, we see that $s_1$ is\n",
    "normally distributed.\n",
    "\n",
    "Continuing in this way shows that $s_n$ is normally distributed.\n",
    "\n",
    "Hence $S_n = \\exp(s_n)$ is lognormal.\n",
    "\n",
    "\n",
    "### Problems with Simple Dynamics\n",
    "\n",
    "The simple dynamic model we studied above is convenient, since we can work out\n",
    "the distribution of $S_n$.\n",
    "\n",
    "\n",
    "However, its predictions are counterfactual because, in the real world,\n",
    "volatility (measured by $\\sigma$) is not stationary.\n",
    "\n",
    "Instead it rather changes over time, sometimes high (like during the GFC) and sometimes low.\n",
    "\n",
    "\n",
    "### More Realistic Dynamics\n",
    "\n",
    "As stated above, one problem with our simple model is that $\\sigma$ is\n",
    "constant.\n",
    "\n",
    "This leads us to study the improved version:\n",
    "\n",
    "$$ \\ln \\frac{S_{t+1}}{S_t} = \\mu + \\sigma_t \\xi_{t+1} $$\n",
    "\n",
    "where \n",
    "\n",
    "$$ \n",
    "    \\sigma_t = \\exp(h_t), \n",
    "    \\quad\n",
    "        h_{t+1} = \\rho h_t + \\nu \\eta_{t+1}\n",
    "$$\n",
    "\n",
    "Here $\\{\\eta_t\\}$ is also IID and standard normal."
   ]
  },
  {
   "cell_type": "markdown",
   "id": "0269d7ed",
   "metadata": {},
   "source": [
    "### Default Parameters\n",
    "\n",
    "For the dynamic model, we adopt the following parameter values."
   ]
  },
  {
   "cell_type": "code",
   "execution_count": null,
   "id": "fc8edf5f",
   "metadata": {},
   "outputs": [],
   "source": [
    "μ  = 0.0001\n",
    "ρ  = 0.1\n",
    "ν  = 0.001\n",
    "S0 = 10\n",
    "h0 = 0"
   ]
  },
  {
   "cell_type": "markdown",
   "id": "63f76859",
   "metadata": {},
   "source": [
    "(Here `S0` is $S_0$ and `h0` is $h_0$.)\n",
    "\n",
    "For the option we use the following defaults."
   ]
  },
  {
   "cell_type": "code",
   "execution_count": null,
   "id": "ff7733e8",
   "metadata": {
    "tags": []
   },
   "outputs": [],
   "source": [
    "K = 100\n",
    "n = 10\n",
    "β = 0.95"
   ]
  },
  {
   "cell_type": "markdown",
   "id": "7ebdfd7a",
   "metadata": {},
   "source": [
    "**Exercise**\n",
    "\n",
    "\n",
    "Write a function that simulates the sequence $S_0, \\ldots, S_n$, where the parameters are set to\n",
    "\n",
    "Plot 50 paths of the form $S_0, \\ldots, S_n$."
   ]
  },
  {
   "cell_type": "code",
   "execution_count": null,
   "id": "5e67cae3",
   "metadata": {},
   "outputs": [],
   "source": [
    "# Put your code here"
   ]
  },
  {
   "cell_type": "code",
   "execution_count": null,
   "id": "19bae31a",
   "metadata": {},
   "outputs": [],
   "source": [
    "for _ in range(12):\n",
    "    print('solution below')"
   ]
  },
  {
   "cell_type": "markdown",
   "id": "11a66d91",
   "metadata": {},
   "source": [
    "With $s_t := \\ln S_t$, the price dynamics become\n",
    "\n",
    "$$ s_{t+1} = s_t + \\mu + \\exp(h_t) \\xi_{t+1} $$\n",
    "\n",
    "Here is a function to simulate a path using this equation:"
   ]
  },
  {
   "cell_type": "code",
   "execution_count": null,
   "id": "9713bc40",
   "metadata": {},
   "outputs": [],
   "source": [
    "from numpy.random import randn\n",
    "\n",
    "def simulate_asset_price_path(μ=μ, S0=S0, h0=h0, n=n, ρ=ρ, ν=ν):\n",
    "    s = np.empty(n+1)\n",
    "    s[0] = np.log(S0)\n",
    "\n",
    "    h = h0\n",
    "    for t in range(n):\n",
    "        s[t+1] = s[t] + μ + np.exp(h) * randn()\n",
    "        h = ρ * h + ν * randn()\n",
    "        \n",
    "    return np.exp(s)"
   ]
  },
  {
   "cell_type": "markdown",
   "id": "91f0272e",
   "metadata": {},
   "source": [
    "Here we plot the paths and the log of the paths."
   ]
  },
  {
   "cell_type": "code",
   "execution_count": null,
   "id": "c1317649",
   "metadata": {},
   "outputs": [],
   "source": [
    "fig, axes = plt.subplots(2, 1)\n",
    "\n",
    "titles = 'log paths', 'paths'\n",
    "transforms = np.log, lambda x: x\n",
    "for ax, transform, title in zip(axes, transforms, titles):\n",
    "    for i in range(50):\n",
    "        path = simulate_asset_price_path()\n",
    "        ax.plot(transform(path))\n",
    "    ax.set_title(title)\n",
    "    \n",
    "fig.tight_layout()\n",
    "plt.show()"
   ]
  },
  {
   "cell_type": "markdown",
   "id": "b1d8bf30",
   "metadata": {},
   "source": [
    "**Exercise**\n",
    "\n",
    "Compute the price of the option $P_0$ by Monte Carlo, averaging over realizations $S_n^1, \\ldots, S_n^M$ of $S_n$ and appealing to the law of large numbers:\n",
    "\n",
    "$$ \\mathbb E \\max\\{ S_n - K, 0 \\} \n",
    "    \\approx\n",
    "    \\frac{1}{M} \\sum_{m=1}^M \\max \\{S_n^m - K, 0 \\}\n",
    "    $$\n",
    "    \n",
    "\n",
    "To the extend that you can, write fast, efficient code to compute the option price.  \n",
    "\n",
    "In particular, try to speed up the code above using `jit` or `njit` from Numba."
   ]
  },
  {
   "cell_type": "code",
   "execution_count": null,
   "id": "4316f209",
   "metadata": {},
   "outputs": [],
   "source": [
    "# Put your code here"
   ]
  },
  {
   "cell_type": "code",
   "execution_count": null,
   "id": "e3d31a8e",
   "metadata": {},
   "outputs": [],
   "source": [
    "for _ in range(12):\n",
    "    print('solution below')"
   ]
  },
  {
   "cell_type": "code",
   "execution_count": null,
   "id": "4552fa79",
   "metadata": {},
   "outputs": [],
   "source": [
    "from numba import njit, prange"
   ]
  },
  {
   "cell_type": "code",
   "execution_count": null,
   "id": "a5f6eceb",
   "metadata": {},
   "outputs": [],
   "source": [
    "@njit\n",
    "def compute_call_price(β=β,\n",
    "                       μ=μ,\n",
    "                       S0=S0,\n",
    "                       h0=h0,\n",
    "                       K=K,\n",
    "                       n=n,\n",
    "                       ρ=ρ,\n",
    "                       ν=ν,\n",
    "                       M=10_000_000):\n",
    "    current_sum = 0.0\n",
    "    # For each sample path\n",
    "    for m in range(M):\n",
    "        s = np.log(S0)\n",
    "        h = h0\n",
    "        # Simulate forward in time\n",
    "        for t in range(n):\n",
    "            s = s + μ + np.exp(h) * randn()\n",
    "            h = ρ * h + ν * randn()\n",
    "        # And add the value max{S_n - K, 0} to current_sum\n",
    "        current_sum += np.maximum(np.exp(s) - K, 0)\n",
    "        \n",
    "    return β**n * current_sum / M"
   ]
  },
  {
   "cell_type": "code",
   "execution_count": null,
   "id": "2cc376ec",
   "metadata": {},
   "outputs": [],
   "source": [
    "%%time \n",
    "compute_call_price()"
   ]
  },
  {
   "cell_type": "markdown",
   "id": "497a256b",
   "metadata": {},
   "source": [
    "**Exercise**\n",
    "\n",
    "If you can, use `prange` from Numba to parallelize this code and make it even faster."
   ]
  },
  {
   "cell_type": "code",
   "execution_count": null,
   "id": "d9f688b1",
   "metadata": {},
   "outputs": [],
   "source": [
    "# Put your code here"
   ]
  },
  {
   "cell_type": "code",
   "execution_count": null,
   "id": "ebedf0a3",
   "metadata": {},
   "outputs": [],
   "source": [
    "for _ in range(12):\n",
    "    print('solution below')"
   ]
  },
  {
   "cell_type": "code",
   "execution_count": null,
   "id": "723bc099",
   "metadata": {},
   "outputs": [],
   "source": [
    "@njit(parallel=True)\n",
    "def compute_call_price_parallel(β=β,\n",
    "                                μ=μ,\n",
    "                                S0=S0,\n",
    "                                h0=h0,\n",
    "                                K=K,\n",
    "                                n=n,\n",
    "                                ρ=ρ,\n",
    "                                ν=ν,\n",
    "                                M=10_000_000):\n",
    "    current_sum = 0.0\n",
    "    # For each sample path\n",
    "    for m in prange(M):\n",
    "        s = np.log(S0)\n",
    "        h = h0\n",
    "        # Simulate forward in time\n",
    "        for t in range(n):\n",
    "            s = s + μ + np.exp(h) * randn()\n",
    "            h = ρ * h + ν * randn()\n",
    "        # And add the value max{S_n - K, 0} to current_sum\n",
    "        current_sum += np.maximum(np.exp(s) - K, 0)\n",
    "        \n",
    "    return β**n * current_sum / M"
   ]
  },
  {
   "cell_type": "code",
   "execution_count": null,
   "id": "335353ce",
   "metadata": {},
   "outputs": [],
   "source": [
    "from numba import get_num_threads, set_num_threads\n",
    "get_num_threads()"
   ]
  },
  {
   "cell_type": "code",
   "execution_count": null,
   "id": "aa62350f",
   "metadata": {},
   "outputs": [],
   "source": [
    "%%time\n",
    "compute_call_price_parallel()"
   ]
  },
  {
   "cell_type": "code",
   "execution_count": null,
   "id": "99be0e62",
   "metadata": {},
   "outputs": [],
   "source": [
    "%%time\n",
    "compute_call_price_parallel()"
   ]
  },
  {
   "cell_type": "markdown",
   "id": "40a11754",
   "metadata": {},
   "source": [
    "## Pricing a European Call Option Using JAX\n",
    "\n",
    "Previously we computed the value of a European call option via Monte Carlo using Numba-based routines.\n",
    "\n",
    "Let's compare how this looks, and how fast it runs, when we implement using [Google JAX](https://python-programming.quantecon.org/jax_intro.html)."
   ]
  },
  {
   "cell_type": "markdown",
   "id": "848cefff",
   "metadata": {},
   "source": [
    "**Exercise**\n",
    "\n",
    "Try to shift the whole operation to the GPU using JAX and test your speed gain."
   ]
  },
  {
   "cell_type": "code",
   "execution_count": null,
   "id": "eb2eaa76",
   "metadata": {},
   "outputs": [],
   "source": [
    "# Put your code here"
   ]
  },
  {
   "cell_type": "code",
   "execution_count": null,
   "id": "82d77c9f",
   "metadata": {},
   "outputs": [],
   "source": [
    "for _ in range(12):\n",
    "    print('solution below')"
   ]
  },
  {
   "cell_type": "code",
   "execution_count": null,
   "id": "6f3c1d0c",
   "metadata": {},
   "outputs": [],
   "source": [
    "!nvidia-smi"
   ]
  },
  {
   "cell_type": "code",
   "execution_count": null,
   "id": "88603418",
   "metadata": {},
   "outputs": [],
   "source": [
    "import jax\n",
    "import jax.numpy as jnp"
   ]
  },
  {
   "cell_type": "code",
   "execution_count": null,
   "id": "e243c4f2",
   "metadata": {},
   "outputs": [],
   "source": [
    "@jax.jit\n",
    "def compute_call_price_jax(β=β,\n",
    "                           μ=μ,\n",
    "                           S0=S0,\n",
    "                           h0=h0,\n",
    "                           K=K,\n",
    "                           n=n,\n",
    "                           ρ=ρ,\n",
    "                           ν=ν,\n",
    "                           M=10_000_000,\n",
    "                           key=jax.random.PRNGKey(1)):\n",
    "\n",
    "    s = jnp.full(M, np.log(S0))\n",
    "    h = jnp.full(M, h0)\n",
    "    for t in range(n):\n",
    "        key, subkey = jax.random.split(key)\n",
    "        Z = jax.random.normal(subkey, (2, M))\n",
    "        s = s + μ + jnp.exp(h) * Z[0, :]\n",
    "        h = ρ * h + ν * Z[1, :]\n",
    "    expectation = jnp.mean(jnp.maximum(jnp.exp(s) - K, 0))\n",
    "        \n",
    "    return β**n * expectation"
   ]
  },
  {
   "cell_type": "code",
   "execution_count": null,
   "id": "daf42d16",
   "metadata": {},
   "outputs": [],
   "source": [
    "%%time \n",
    "compute_call_price_jax().block_until_ready()"
   ]
  },
  {
   "cell_type": "code",
   "execution_count": null,
   "id": "1bf72132",
   "metadata": {},
   "outputs": [],
   "source": [
    "%%time \n",
    "compute_call_price_jax().block_until_ready()"
   ]
  }
 ],
 "metadata": {
  "kernelspec": {
   "display_name": "Python 3 (ipykernel)",
   "language": "python",
   "name": "python3"
  }
 },
 "nbformat": 4,
 "nbformat_minor": 5
}
